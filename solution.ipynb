{
  "nbformat": 4,
  "nbformat_minor": 0,
  "metadata": {
    "colab": {
      "name": "hw.ipynb",
      "provenance": [],
      "collapsed_sections": [
        "aQl_lT48ZAPU"
      ],
      "mount_file_id": "1ivdutznjTb3eDHDYXt-MsiFknvovT2y6",
      "authorship_tag": "ABX9TyPeSNLuiYe7CJ76izyqj6j6",
      "include_colab_link": true
    },
    "kernelspec": {
      "name": "python3",
      "display_name": "Python 3"
    },
    "widgets": {
      "application/vnd.jupyter.widget-state+json": {
        "daef6d991e894acbb68d7eec241184f5": {
          "model_module": "@jupyter-widgets/controls",
          "model_name": "HBoxModel",
          "state": {
            "_view_name": "HBoxView",
            "_dom_classes": [],
            "_model_name": "HBoxModel",
            "_view_module": "@jupyter-widgets/controls",
            "_model_module_version": "1.5.0",
            "_view_count": null,
            "_view_module_version": "1.5.0",
            "box_style": "",
            "layout": "IPY_MODEL_bc6a2342f2054eacbcc6d58ad8d6db69",
            "_model_module": "@jupyter-widgets/controls",
            "children": [
              "IPY_MODEL_1ede75e02ff946f0aa953aff941e719e",
              "IPY_MODEL_e19adf2fd6074608be5f6941839b4f83"
            ]
          }
        },
        "bc6a2342f2054eacbcc6d58ad8d6db69": {
          "model_module": "@jupyter-widgets/base",
          "model_name": "LayoutModel",
          "state": {
            "_view_name": "LayoutView",
            "grid_template_rows": null,
            "right": null,
            "justify_content": null,
            "_view_module": "@jupyter-widgets/base",
            "overflow": null,
            "_model_module_version": "1.2.0",
            "_view_count": null,
            "flex_flow": null,
            "width": null,
            "min_width": null,
            "border": null,
            "align_items": null,
            "bottom": null,
            "_model_module": "@jupyter-widgets/base",
            "top": null,
            "grid_column": null,
            "overflow_y": null,
            "overflow_x": null,
            "grid_auto_flow": null,
            "grid_area": null,
            "grid_template_columns": null,
            "flex": null,
            "_model_name": "LayoutModel",
            "justify_items": null,
            "grid_row": null,
            "max_height": null,
            "align_content": null,
            "visibility": null,
            "align_self": null,
            "height": null,
            "min_height": null,
            "padding": null,
            "grid_auto_rows": null,
            "grid_gap": null,
            "max_width": null,
            "order": null,
            "_view_module_version": "1.2.0",
            "grid_template_areas": null,
            "object_position": null,
            "object_fit": null,
            "grid_auto_columns": null,
            "margin": null,
            "display": null,
            "left": null
          }
        },
        "1ede75e02ff946f0aa953aff941e719e": {
          "model_module": "@jupyter-widgets/controls",
          "model_name": "FloatProgressModel",
          "state": {
            "_view_name": "ProgressView",
            "style": "IPY_MODEL_83d00d8853a046b7a8e70ce8aea3dc48",
            "_dom_classes": [],
            "description": "100%",
            "_model_name": "FloatProgressModel",
            "bar_style": "success",
            "max": 188,
            "_view_module": "@jupyter-widgets/controls",
            "_model_module_version": "1.5.0",
            "value": 188,
            "_view_count": null,
            "_view_module_version": "1.5.0",
            "orientation": "horizontal",
            "min": 0,
            "description_tooltip": null,
            "_model_module": "@jupyter-widgets/controls",
            "layout": "IPY_MODEL_956c0bcda5334ebe824711bc89014436"
          }
        },
        "e19adf2fd6074608be5f6941839b4f83": {
          "model_module": "@jupyter-widgets/controls",
          "model_name": "HTMLModel",
          "state": {
            "_view_name": "HTMLView",
            "style": "IPY_MODEL_6f42ccc68e50462aa915f1c0b96dd192",
            "_dom_classes": [],
            "description": "",
            "_model_name": "HTMLModel",
            "placeholder": "​",
            "_view_module": "@jupyter-widgets/controls",
            "_model_module_version": "1.5.0",
            "value": " 188/188 [30:08&lt;00:00,  9.62s/it]",
            "_view_count": null,
            "_view_module_version": "1.5.0",
            "description_tooltip": null,
            "_model_module": "@jupyter-widgets/controls",
            "layout": "IPY_MODEL_f02e3d0cbbf443d3b971ea32dcdf9d2b"
          }
        },
        "83d00d8853a046b7a8e70ce8aea3dc48": {
          "model_module": "@jupyter-widgets/controls",
          "model_name": "ProgressStyleModel",
          "state": {
            "_view_name": "StyleView",
            "_model_name": "ProgressStyleModel",
            "description_width": "initial",
            "_view_module": "@jupyter-widgets/base",
            "_model_module_version": "1.5.0",
            "_view_count": null,
            "_view_module_version": "1.2.0",
            "bar_color": null,
            "_model_module": "@jupyter-widgets/controls"
          }
        },
        "956c0bcda5334ebe824711bc89014436": {
          "model_module": "@jupyter-widgets/base",
          "model_name": "LayoutModel",
          "state": {
            "_view_name": "LayoutView",
            "grid_template_rows": null,
            "right": null,
            "justify_content": null,
            "_view_module": "@jupyter-widgets/base",
            "overflow": null,
            "_model_module_version": "1.2.0",
            "_view_count": null,
            "flex_flow": null,
            "width": null,
            "min_width": null,
            "border": null,
            "align_items": null,
            "bottom": null,
            "_model_module": "@jupyter-widgets/base",
            "top": null,
            "grid_column": null,
            "overflow_y": null,
            "overflow_x": null,
            "grid_auto_flow": null,
            "grid_area": null,
            "grid_template_columns": null,
            "flex": null,
            "_model_name": "LayoutModel",
            "justify_items": null,
            "grid_row": null,
            "max_height": null,
            "align_content": null,
            "visibility": null,
            "align_self": null,
            "height": null,
            "min_height": null,
            "padding": null,
            "grid_auto_rows": null,
            "grid_gap": null,
            "max_width": null,
            "order": null,
            "_view_module_version": "1.2.0",
            "grid_template_areas": null,
            "object_position": null,
            "object_fit": null,
            "grid_auto_columns": null,
            "margin": null,
            "display": null,
            "left": null
          }
        },
        "6f42ccc68e50462aa915f1c0b96dd192": {
          "model_module": "@jupyter-widgets/controls",
          "model_name": "DescriptionStyleModel",
          "state": {
            "_view_name": "StyleView",
            "_model_name": "DescriptionStyleModel",
            "description_width": "",
            "_view_module": "@jupyter-widgets/base",
            "_model_module_version": "1.5.0",
            "_view_count": null,
            "_view_module_version": "1.2.0",
            "_model_module": "@jupyter-widgets/controls"
          }
        },
        "f02e3d0cbbf443d3b971ea32dcdf9d2b": {
          "model_module": "@jupyter-widgets/base",
          "model_name": "LayoutModel",
          "state": {
            "_view_name": "LayoutView",
            "grid_template_rows": null,
            "right": null,
            "justify_content": null,
            "_view_module": "@jupyter-widgets/base",
            "overflow": null,
            "_model_module_version": "1.2.0",
            "_view_count": null,
            "flex_flow": null,
            "width": null,
            "min_width": null,
            "border": null,
            "align_items": null,
            "bottom": null,
            "_model_module": "@jupyter-widgets/base",
            "top": null,
            "grid_column": null,
            "overflow_y": null,
            "overflow_x": null,
            "grid_auto_flow": null,
            "grid_area": null,
            "grid_template_columns": null,
            "flex": null,
            "_model_name": "LayoutModel",
            "justify_items": null,
            "grid_row": null,
            "max_height": null,
            "align_content": null,
            "visibility": null,
            "align_self": null,
            "height": null,
            "min_height": null,
            "padding": null,
            "grid_auto_rows": null,
            "grid_gap": null,
            "max_width": null,
            "order": null,
            "_view_module_version": "1.2.0",
            "grid_template_areas": null,
            "object_position": null,
            "object_fit": null,
            "grid_auto_columns": null,
            "margin": null,
            "display": null,
            "left": null
          }
        },
        "90e6785e9abe49b9a558628187484530": {
          "model_module": "@jupyter-widgets/controls",
          "model_name": "HBoxModel",
          "state": {
            "_view_name": "HBoxView",
            "_dom_classes": [],
            "_model_name": "HBoxModel",
            "_view_module": "@jupyter-widgets/controls",
            "_model_module_version": "1.5.0",
            "_view_count": null,
            "_view_module_version": "1.5.0",
            "box_style": "",
            "layout": "IPY_MODEL_4e1c5055de3d478c83a3d112570e2e75",
            "_model_module": "@jupyter-widgets/controls",
            "children": [
              "IPY_MODEL_879e71602e884b0cbd5df6533242a01d",
              "IPY_MODEL_77d68ddead174de8945602a7304e6c82"
            ]
          }
        },
        "4e1c5055de3d478c83a3d112570e2e75": {
          "model_module": "@jupyter-widgets/base",
          "model_name": "LayoutModel",
          "state": {
            "_view_name": "LayoutView",
            "grid_template_rows": null,
            "right": null,
            "justify_content": null,
            "_view_module": "@jupyter-widgets/base",
            "overflow": null,
            "_model_module_version": "1.2.0",
            "_view_count": null,
            "flex_flow": null,
            "width": null,
            "min_width": null,
            "border": null,
            "align_items": null,
            "bottom": null,
            "_model_module": "@jupyter-widgets/base",
            "top": null,
            "grid_column": null,
            "overflow_y": null,
            "overflow_x": null,
            "grid_auto_flow": null,
            "grid_area": null,
            "grid_template_columns": null,
            "flex": null,
            "_model_name": "LayoutModel",
            "justify_items": null,
            "grid_row": null,
            "max_height": null,
            "align_content": null,
            "visibility": null,
            "align_self": null,
            "height": null,
            "min_height": null,
            "padding": null,
            "grid_auto_rows": null,
            "grid_gap": null,
            "max_width": null,
            "order": null,
            "_view_module_version": "1.2.0",
            "grid_template_areas": null,
            "object_position": null,
            "object_fit": null,
            "grid_auto_columns": null,
            "margin": null,
            "display": null,
            "left": null
          }
        },
        "879e71602e884b0cbd5df6533242a01d": {
          "model_module": "@jupyter-widgets/controls",
          "model_name": "FloatProgressModel",
          "state": {
            "_view_name": "ProgressView",
            "style": "IPY_MODEL_4edb8746465540a6b05f9074150594ce",
            "_dom_classes": [],
            "description": "100%",
            "_model_name": "FloatProgressModel",
            "bar_style": "success",
            "max": 94,
            "_view_module": "@jupyter-widgets/controls",
            "_model_module_version": "1.5.0",
            "value": 94,
            "_view_count": null,
            "_view_module_version": "1.5.0",
            "orientation": "horizontal",
            "min": 0,
            "description_tooltip": null,
            "_model_module": "@jupyter-widgets/controls",
            "layout": "IPY_MODEL_03a7d467b4c64d8eab0471703eadbee4"
          }
        },
        "77d68ddead174de8945602a7304e6c82": {
          "model_module": "@jupyter-widgets/controls",
          "model_name": "HTMLModel",
          "state": {
            "_view_name": "HTMLView",
            "style": "IPY_MODEL_14d2fc4ba8b543ae91125887e4387a19",
            "_dom_classes": [],
            "description": "",
            "_model_name": "HTMLModel",
            "placeholder": "​",
            "_view_module": "@jupyter-widgets/controls",
            "_model_module_version": "1.5.0",
            "value": " 94/94 [08:42&lt;00:00,  5.56s/it]",
            "_view_count": null,
            "_view_module_version": "1.5.0",
            "description_tooltip": null,
            "_model_module": "@jupyter-widgets/controls",
            "layout": "IPY_MODEL_812e4966775f47b599fe85fb7352f1b9"
          }
        },
        "4edb8746465540a6b05f9074150594ce": {
          "model_module": "@jupyter-widgets/controls",
          "model_name": "ProgressStyleModel",
          "state": {
            "_view_name": "StyleView",
            "_model_name": "ProgressStyleModel",
            "description_width": "initial",
            "_view_module": "@jupyter-widgets/base",
            "_model_module_version": "1.5.0",
            "_view_count": null,
            "_view_module_version": "1.2.0",
            "bar_color": null,
            "_model_module": "@jupyter-widgets/controls"
          }
        },
        "03a7d467b4c64d8eab0471703eadbee4": {
          "model_module": "@jupyter-widgets/base",
          "model_name": "LayoutModel",
          "state": {
            "_view_name": "LayoutView",
            "grid_template_rows": null,
            "right": null,
            "justify_content": null,
            "_view_module": "@jupyter-widgets/base",
            "overflow": null,
            "_model_module_version": "1.2.0",
            "_view_count": null,
            "flex_flow": null,
            "width": null,
            "min_width": null,
            "border": null,
            "align_items": null,
            "bottom": null,
            "_model_module": "@jupyter-widgets/base",
            "top": null,
            "grid_column": null,
            "overflow_y": null,
            "overflow_x": null,
            "grid_auto_flow": null,
            "grid_area": null,
            "grid_template_columns": null,
            "flex": null,
            "_model_name": "LayoutModel",
            "justify_items": null,
            "grid_row": null,
            "max_height": null,
            "align_content": null,
            "visibility": null,
            "align_self": null,
            "height": null,
            "min_height": null,
            "padding": null,
            "grid_auto_rows": null,
            "grid_gap": null,
            "max_width": null,
            "order": null,
            "_view_module_version": "1.2.0",
            "grid_template_areas": null,
            "object_position": null,
            "object_fit": null,
            "grid_auto_columns": null,
            "margin": null,
            "display": null,
            "left": null
          }
        },
        "14d2fc4ba8b543ae91125887e4387a19": {
          "model_module": "@jupyter-widgets/controls",
          "model_name": "DescriptionStyleModel",
          "state": {
            "_view_name": "StyleView",
            "_model_name": "DescriptionStyleModel",
            "description_width": "",
            "_view_module": "@jupyter-widgets/base",
            "_model_module_version": "1.5.0",
            "_view_count": null,
            "_view_module_version": "1.2.0",
            "_model_module": "@jupyter-widgets/controls"
          }
        },
        "812e4966775f47b599fe85fb7352f1b9": {
          "model_module": "@jupyter-widgets/base",
          "model_name": "LayoutModel",
          "state": {
            "_view_name": "LayoutView",
            "grid_template_rows": null,
            "right": null,
            "justify_content": null,
            "_view_module": "@jupyter-widgets/base",
            "overflow": null,
            "_model_module_version": "1.2.0",
            "_view_count": null,
            "flex_flow": null,
            "width": null,
            "min_width": null,
            "border": null,
            "align_items": null,
            "bottom": null,
            "_model_module": "@jupyter-widgets/base",
            "top": null,
            "grid_column": null,
            "overflow_y": null,
            "overflow_x": null,
            "grid_auto_flow": null,
            "grid_area": null,
            "grid_template_columns": null,
            "flex": null,
            "_model_name": "LayoutModel",
            "justify_items": null,
            "grid_row": null,
            "max_height": null,
            "align_content": null,
            "visibility": null,
            "align_self": null,
            "height": null,
            "min_height": null,
            "padding": null,
            "grid_auto_rows": null,
            "grid_gap": null,
            "max_width": null,
            "order": null,
            "_view_module_version": "1.2.0",
            "grid_template_areas": null,
            "object_position": null,
            "object_fit": null,
            "grid_auto_columns": null,
            "margin": null,
            "display": null,
            "left": null
          }
        },
        "b46d8d3c50104c0f9f92d5678c0bb528": {
          "model_module": "@jupyter-widgets/controls",
          "model_name": "HBoxModel",
          "state": {
            "_view_name": "HBoxView",
            "_dom_classes": [],
            "_model_name": "HBoxModel",
            "_view_module": "@jupyter-widgets/controls",
            "_model_module_version": "1.5.0",
            "_view_count": null,
            "_view_module_version": "1.5.0",
            "box_style": "",
            "layout": "IPY_MODEL_11bb3e2bdc2d44f9bafe210349a12ece",
            "_model_module": "@jupyter-widgets/controls",
            "children": [
              "IPY_MODEL_f603d3ed420643548c3a8ed965bb9bdd",
              "IPY_MODEL_e809ad08f2884c1494e063074408e29a"
            ]
          }
        },
        "11bb3e2bdc2d44f9bafe210349a12ece": {
          "model_module": "@jupyter-widgets/base",
          "model_name": "LayoutModel",
          "state": {
            "_view_name": "LayoutView",
            "grid_template_rows": null,
            "right": null,
            "justify_content": null,
            "_view_module": "@jupyter-widgets/base",
            "overflow": null,
            "_model_module_version": "1.2.0",
            "_view_count": null,
            "flex_flow": null,
            "width": null,
            "min_width": null,
            "border": null,
            "align_items": null,
            "bottom": null,
            "_model_module": "@jupyter-widgets/base",
            "top": null,
            "grid_column": null,
            "overflow_y": null,
            "overflow_x": null,
            "grid_auto_flow": null,
            "grid_area": null,
            "grid_template_columns": null,
            "flex": null,
            "_model_name": "LayoutModel",
            "justify_items": null,
            "grid_row": null,
            "max_height": null,
            "align_content": null,
            "visibility": null,
            "align_self": null,
            "height": null,
            "min_height": null,
            "padding": null,
            "grid_auto_rows": null,
            "grid_gap": null,
            "max_width": null,
            "order": null,
            "_view_module_version": "1.2.0",
            "grid_template_areas": null,
            "object_position": null,
            "object_fit": null,
            "grid_auto_columns": null,
            "margin": null,
            "display": null,
            "left": null
          }
        },
        "f603d3ed420643548c3a8ed965bb9bdd": {
          "model_module": "@jupyter-widgets/controls",
          "model_name": "FloatProgressModel",
          "state": {
            "_view_name": "ProgressView",
            "style": "IPY_MODEL_39644a9566c645e6b46d80564a6d9aa5",
            "_dom_classes": [],
            "description": "100%",
            "_model_name": "FloatProgressModel",
            "bar_style": "success",
            "max": 30,
            "_view_module": "@jupyter-widgets/controls",
            "_model_module_version": "1.5.0",
            "value": 30,
            "_view_count": null,
            "_view_module_version": "1.5.0",
            "orientation": "horizontal",
            "min": 0,
            "description_tooltip": null,
            "_model_module": "@jupyter-widgets/controls",
            "layout": "IPY_MODEL_fcfbaa1e1ed54d06ba3862b9e2c9fd2d"
          }
        },
        "e809ad08f2884c1494e063074408e29a": {
          "model_module": "@jupyter-widgets/controls",
          "model_name": "HTMLModel",
          "state": {
            "_view_name": "HTMLView",
            "style": "IPY_MODEL_59d3761c42374526b06de5ff198fd045",
            "_dom_classes": [],
            "description": "",
            "_model_name": "HTMLModel",
            "placeholder": "​",
            "_view_module": "@jupyter-widgets/controls",
            "_model_module_version": "1.5.0",
            "value": " 30/30 [04:42&lt;00:00,  9.43s/it]",
            "_view_count": null,
            "_view_module_version": "1.5.0",
            "description_tooltip": null,
            "_model_module": "@jupyter-widgets/controls",
            "layout": "IPY_MODEL_2937d037918c45f2aa5275d16e098ac4"
          }
        },
        "39644a9566c645e6b46d80564a6d9aa5": {
          "model_module": "@jupyter-widgets/controls",
          "model_name": "ProgressStyleModel",
          "state": {
            "_view_name": "StyleView",
            "_model_name": "ProgressStyleModel",
            "description_width": "initial",
            "_view_module": "@jupyter-widgets/base",
            "_model_module_version": "1.5.0",
            "_view_count": null,
            "_view_module_version": "1.2.0",
            "bar_color": null,
            "_model_module": "@jupyter-widgets/controls"
          }
        },
        "fcfbaa1e1ed54d06ba3862b9e2c9fd2d": {
          "model_module": "@jupyter-widgets/base",
          "model_name": "LayoutModel",
          "state": {
            "_view_name": "LayoutView",
            "grid_template_rows": null,
            "right": null,
            "justify_content": null,
            "_view_module": "@jupyter-widgets/base",
            "overflow": null,
            "_model_module_version": "1.2.0",
            "_view_count": null,
            "flex_flow": null,
            "width": null,
            "min_width": null,
            "border": null,
            "align_items": null,
            "bottom": null,
            "_model_module": "@jupyter-widgets/base",
            "top": null,
            "grid_column": null,
            "overflow_y": null,
            "overflow_x": null,
            "grid_auto_flow": null,
            "grid_area": null,
            "grid_template_columns": null,
            "flex": null,
            "_model_name": "LayoutModel",
            "justify_items": null,
            "grid_row": null,
            "max_height": null,
            "align_content": null,
            "visibility": null,
            "align_self": null,
            "height": null,
            "min_height": null,
            "padding": null,
            "grid_auto_rows": null,
            "grid_gap": null,
            "max_width": null,
            "order": null,
            "_view_module_version": "1.2.0",
            "grid_template_areas": null,
            "object_position": null,
            "object_fit": null,
            "grid_auto_columns": null,
            "margin": null,
            "display": null,
            "left": null
          }
        },
        "59d3761c42374526b06de5ff198fd045": {
          "model_module": "@jupyter-widgets/controls",
          "model_name": "DescriptionStyleModel",
          "state": {
            "_view_name": "StyleView",
            "_model_name": "DescriptionStyleModel",
            "description_width": "",
            "_view_module": "@jupyter-widgets/base",
            "_model_module_version": "1.5.0",
            "_view_count": null,
            "_view_module_version": "1.2.0",
            "_model_module": "@jupyter-widgets/controls"
          }
        },
        "2937d037918c45f2aa5275d16e098ac4": {
          "model_module": "@jupyter-widgets/base",
          "model_name": "LayoutModel",
          "state": {
            "_view_name": "LayoutView",
            "grid_template_rows": null,
            "right": null,
            "justify_content": null,
            "_view_module": "@jupyter-widgets/base",
            "overflow": null,
            "_model_module_version": "1.2.0",
            "_view_count": null,
            "flex_flow": null,
            "width": null,
            "min_width": null,
            "border": null,
            "align_items": null,
            "bottom": null,
            "_model_module": "@jupyter-widgets/base",
            "top": null,
            "grid_column": null,
            "overflow_y": null,
            "overflow_x": null,
            "grid_auto_flow": null,
            "grid_area": null,
            "grid_template_columns": null,
            "flex": null,
            "_model_name": "LayoutModel",
            "justify_items": null,
            "grid_row": null,
            "max_height": null,
            "align_content": null,
            "visibility": null,
            "align_self": null,
            "height": null,
            "min_height": null,
            "padding": null,
            "grid_auto_rows": null,
            "grid_gap": null,
            "max_width": null,
            "order": null,
            "_view_module_version": "1.2.0",
            "grid_template_areas": null,
            "object_position": null,
            "object_fit": null,
            "grid_auto_columns": null,
            "margin": null,
            "display": null,
            "left": null
          }
        },
        "4663503811244c338b051363e57962a9": {
          "model_module": "@jupyter-widgets/controls",
          "model_name": "HBoxModel",
          "state": {
            "_view_name": "HBoxView",
            "_dom_classes": [],
            "_model_name": "HBoxModel",
            "_view_module": "@jupyter-widgets/controls",
            "_model_module_version": "1.5.0",
            "_view_count": null,
            "_view_module_version": "1.5.0",
            "box_style": "",
            "layout": "IPY_MODEL_5b41377709bc403a882ccd2ed1adc6f2",
            "_model_module": "@jupyter-widgets/controls",
            "children": [
              "IPY_MODEL_0b781fc29b4c411c8e7b673058b4083f",
              "IPY_MODEL_adaf0efc363249ada3709f75de545913"
            ]
          }
        },
        "5b41377709bc403a882ccd2ed1adc6f2": {
          "model_module": "@jupyter-widgets/base",
          "model_name": "LayoutModel",
          "state": {
            "_view_name": "LayoutView",
            "grid_template_rows": null,
            "right": null,
            "justify_content": null,
            "_view_module": "@jupyter-widgets/base",
            "overflow": null,
            "_model_module_version": "1.2.0",
            "_view_count": null,
            "flex_flow": null,
            "width": null,
            "min_width": null,
            "border": null,
            "align_items": null,
            "bottom": null,
            "_model_module": "@jupyter-widgets/base",
            "top": null,
            "grid_column": null,
            "overflow_y": null,
            "overflow_x": null,
            "grid_auto_flow": null,
            "grid_area": null,
            "grid_template_columns": null,
            "flex": null,
            "_model_name": "LayoutModel",
            "justify_items": null,
            "grid_row": null,
            "max_height": null,
            "align_content": null,
            "visibility": null,
            "align_self": null,
            "height": null,
            "min_height": null,
            "padding": null,
            "grid_auto_rows": null,
            "grid_gap": null,
            "max_width": null,
            "order": null,
            "_view_module_version": "1.2.0",
            "grid_template_areas": null,
            "object_position": null,
            "object_fit": null,
            "grid_auto_columns": null,
            "margin": null,
            "display": null,
            "left": null
          }
        },
        "0b781fc29b4c411c8e7b673058b4083f": {
          "model_module": "@jupyter-widgets/controls",
          "model_name": "FloatProgressModel",
          "state": {
            "_view_name": "ProgressView",
            "style": "IPY_MODEL_4ac153984a1f45648983b9f27dbcb0d8",
            "_dom_classes": [],
            "description": "100%",
            "_model_name": "FloatProgressModel",
            "bar_style": "success",
            "max": 15,
            "_view_module": "@jupyter-widgets/controls",
            "_model_module_version": "1.5.0",
            "value": 15,
            "_view_count": null,
            "_view_module_version": "1.5.0",
            "orientation": "horizontal",
            "min": 0,
            "description_tooltip": null,
            "_model_module": "@jupyter-widgets/controls",
            "layout": "IPY_MODEL_5295a668b63d45e2b8c654c66ce5ec5b"
          }
        },
        "adaf0efc363249ada3709f75de545913": {
          "model_module": "@jupyter-widgets/controls",
          "model_name": "HTMLModel",
          "state": {
            "_view_name": "HTMLView",
            "style": "IPY_MODEL_3231f646af704d05812e8320ffc4c06a",
            "_dom_classes": [],
            "description": "",
            "_model_name": "HTMLModel",
            "placeholder": "​",
            "_view_module": "@jupyter-widgets/controls",
            "_model_module_version": "1.5.0",
            "value": " 15/15 [01:38&lt;00:00,  6.60s/it]",
            "_view_count": null,
            "_view_module_version": "1.5.0",
            "description_tooltip": null,
            "_model_module": "@jupyter-widgets/controls",
            "layout": "IPY_MODEL_cc6b42e09e6e4cee9070c59e21dc27f5"
          }
        },
        "4ac153984a1f45648983b9f27dbcb0d8": {
          "model_module": "@jupyter-widgets/controls",
          "model_name": "ProgressStyleModel",
          "state": {
            "_view_name": "StyleView",
            "_model_name": "ProgressStyleModel",
            "description_width": "initial",
            "_view_module": "@jupyter-widgets/base",
            "_model_module_version": "1.5.0",
            "_view_count": null,
            "_view_module_version": "1.2.0",
            "bar_color": null,
            "_model_module": "@jupyter-widgets/controls"
          }
        },
        "5295a668b63d45e2b8c654c66ce5ec5b": {
          "model_module": "@jupyter-widgets/base",
          "model_name": "LayoutModel",
          "state": {
            "_view_name": "LayoutView",
            "grid_template_rows": null,
            "right": null,
            "justify_content": null,
            "_view_module": "@jupyter-widgets/base",
            "overflow": null,
            "_model_module_version": "1.2.0",
            "_view_count": null,
            "flex_flow": null,
            "width": null,
            "min_width": null,
            "border": null,
            "align_items": null,
            "bottom": null,
            "_model_module": "@jupyter-widgets/base",
            "top": null,
            "grid_column": null,
            "overflow_y": null,
            "overflow_x": null,
            "grid_auto_flow": null,
            "grid_area": null,
            "grid_template_columns": null,
            "flex": null,
            "_model_name": "LayoutModel",
            "justify_items": null,
            "grid_row": null,
            "max_height": null,
            "align_content": null,
            "visibility": null,
            "align_self": null,
            "height": null,
            "min_height": null,
            "padding": null,
            "grid_auto_rows": null,
            "grid_gap": null,
            "max_width": null,
            "order": null,
            "_view_module_version": "1.2.0",
            "grid_template_areas": null,
            "object_position": null,
            "object_fit": null,
            "grid_auto_columns": null,
            "margin": null,
            "display": null,
            "left": null
          }
        },
        "3231f646af704d05812e8320ffc4c06a": {
          "model_module": "@jupyter-widgets/controls",
          "model_name": "DescriptionStyleModel",
          "state": {
            "_view_name": "StyleView",
            "_model_name": "DescriptionStyleModel",
            "description_width": "",
            "_view_module": "@jupyter-widgets/base",
            "_model_module_version": "1.5.0",
            "_view_count": null,
            "_view_module_version": "1.2.0",
            "_model_module": "@jupyter-widgets/controls"
          }
        },
        "cc6b42e09e6e4cee9070c59e21dc27f5": {
          "model_module": "@jupyter-widgets/base",
          "model_name": "LayoutModel",
          "state": {
            "_view_name": "LayoutView",
            "grid_template_rows": null,
            "right": null,
            "justify_content": null,
            "_view_module": "@jupyter-widgets/base",
            "overflow": null,
            "_model_module_version": "1.2.0",
            "_view_count": null,
            "flex_flow": null,
            "width": null,
            "min_width": null,
            "border": null,
            "align_items": null,
            "bottom": null,
            "_model_module": "@jupyter-widgets/base",
            "top": null,
            "grid_column": null,
            "overflow_y": null,
            "overflow_x": null,
            "grid_auto_flow": null,
            "grid_area": null,
            "grid_template_columns": null,
            "flex": null,
            "_model_name": "LayoutModel",
            "justify_items": null,
            "grid_row": null,
            "max_height": null,
            "align_content": null,
            "visibility": null,
            "align_self": null,
            "height": null,
            "min_height": null,
            "padding": null,
            "grid_auto_rows": null,
            "grid_gap": null,
            "max_width": null,
            "order": null,
            "_view_module_version": "1.2.0",
            "grid_template_areas": null,
            "object_position": null,
            "object_fit": null,
            "grid_auto_columns": null,
            "margin": null,
            "display": null,
            "left": null
          }
        },
        "f5ee5a1b4a394ed6a73ad0372502625b": {
          "model_module": "@jupyter-widgets/controls",
          "model_name": "HBoxModel",
          "state": {
            "_view_name": "HBoxView",
            "_dom_classes": [],
            "_model_name": "HBoxModel",
            "_view_module": "@jupyter-widgets/controls",
            "_model_module_version": "1.5.0",
            "_view_count": null,
            "_view_module_version": "1.5.0",
            "box_style": "",
            "layout": "IPY_MODEL_65e8e47e4f4a45bc83ec511328a1dbee",
            "_model_module": "@jupyter-widgets/controls",
            "children": [
              "IPY_MODEL_92d4ffbc95c747f3b41443d15b4e2d37",
              "IPY_MODEL_9bc57d65143742f292501ff3ce9eec05"
            ]
          }
        },
        "65e8e47e4f4a45bc83ec511328a1dbee": {
          "model_module": "@jupyter-widgets/base",
          "model_name": "LayoutModel",
          "state": {
            "_view_name": "LayoutView",
            "grid_template_rows": null,
            "right": null,
            "justify_content": null,
            "_view_module": "@jupyter-widgets/base",
            "overflow": null,
            "_model_module_version": "1.2.0",
            "_view_count": null,
            "flex_flow": null,
            "width": null,
            "min_width": null,
            "border": null,
            "align_items": null,
            "bottom": null,
            "_model_module": "@jupyter-widgets/base",
            "top": null,
            "grid_column": null,
            "overflow_y": null,
            "overflow_x": null,
            "grid_auto_flow": null,
            "grid_area": null,
            "grid_template_columns": null,
            "flex": null,
            "_model_name": "LayoutModel",
            "justify_items": null,
            "grid_row": null,
            "max_height": null,
            "align_content": null,
            "visibility": null,
            "align_self": null,
            "height": null,
            "min_height": null,
            "padding": null,
            "grid_auto_rows": null,
            "grid_gap": null,
            "max_width": null,
            "order": null,
            "_view_module_version": "1.2.0",
            "grid_template_areas": null,
            "object_position": null,
            "object_fit": null,
            "grid_auto_columns": null,
            "margin": null,
            "display": null,
            "left": null
          }
        },
        "92d4ffbc95c747f3b41443d15b4e2d37": {
          "model_module": "@jupyter-widgets/controls",
          "model_name": "FloatProgressModel",
          "state": {
            "_view_name": "ProgressView",
            "style": "IPY_MODEL_a3fb80fbe20241f6a642192abad3946f",
            "_dom_classes": [],
            "description": "100%",
            "_model_name": "FloatProgressModel",
            "bar_style": "success",
            "max": 5,
            "_view_module": "@jupyter-widgets/controls",
            "_model_module_version": "1.5.0",
            "value": 5,
            "_view_count": null,
            "_view_module_version": "1.5.0",
            "orientation": "horizontal",
            "min": 0,
            "description_tooltip": null,
            "_model_module": "@jupyter-widgets/controls",
            "layout": "IPY_MODEL_708b65113e6c414bbbf9a2288d402517"
          }
        },
        "9bc57d65143742f292501ff3ce9eec05": {
          "model_module": "@jupyter-widgets/controls",
          "model_name": "HTMLModel",
          "state": {
            "_view_name": "HTMLView",
            "style": "IPY_MODEL_f0a492032c5840e3a5a4ba0423638193",
            "_dom_classes": [],
            "description": "",
            "_model_name": "HTMLModel",
            "placeholder": "​",
            "_view_module": "@jupyter-widgets/controls",
            "_model_module_version": "1.5.0",
            "value": " 5/5 [00:03&lt;00:00,  1.25it/s]",
            "_view_count": null,
            "_view_module_version": "1.5.0",
            "description_tooltip": null,
            "_model_module": "@jupyter-widgets/controls",
            "layout": "IPY_MODEL_2d6429e6d7124af59de55a652da1d7fc"
          }
        },
        "a3fb80fbe20241f6a642192abad3946f": {
          "model_module": "@jupyter-widgets/controls",
          "model_name": "ProgressStyleModel",
          "state": {
            "_view_name": "StyleView",
            "_model_name": "ProgressStyleModel",
            "description_width": "initial",
            "_view_module": "@jupyter-widgets/base",
            "_model_module_version": "1.5.0",
            "_view_count": null,
            "_view_module_version": "1.2.0",
            "bar_color": null,
            "_model_module": "@jupyter-widgets/controls"
          }
        },
        "708b65113e6c414bbbf9a2288d402517": {
          "model_module": "@jupyter-widgets/base",
          "model_name": "LayoutModel",
          "state": {
            "_view_name": "LayoutView",
            "grid_template_rows": null,
            "right": null,
            "justify_content": null,
            "_view_module": "@jupyter-widgets/base",
            "overflow": null,
            "_model_module_version": "1.2.0",
            "_view_count": null,
            "flex_flow": null,
            "width": null,
            "min_width": null,
            "border": null,
            "align_items": null,
            "bottom": null,
            "_model_module": "@jupyter-widgets/base",
            "top": null,
            "grid_column": null,
            "overflow_y": null,
            "overflow_x": null,
            "grid_auto_flow": null,
            "grid_area": null,
            "grid_template_columns": null,
            "flex": null,
            "_model_name": "LayoutModel",
            "justify_items": null,
            "grid_row": null,
            "max_height": null,
            "align_content": null,
            "visibility": null,
            "align_self": null,
            "height": null,
            "min_height": null,
            "padding": null,
            "grid_auto_rows": null,
            "grid_gap": null,
            "max_width": null,
            "order": null,
            "_view_module_version": "1.2.0",
            "grid_template_areas": null,
            "object_position": null,
            "object_fit": null,
            "grid_auto_columns": null,
            "margin": null,
            "display": null,
            "left": null
          }
        },
        "f0a492032c5840e3a5a4ba0423638193": {
          "model_module": "@jupyter-widgets/controls",
          "model_name": "DescriptionStyleModel",
          "state": {
            "_view_name": "StyleView",
            "_model_name": "DescriptionStyleModel",
            "description_width": "",
            "_view_module": "@jupyter-widgets/base",
            "_model_module_version": "1.5.0",
            "_view_count": null,
            "_view_module_version": "1.2.0",
            "_model_module": "@jupyter-widgets/controls"
          }
        },
        "2d6429e6d7124af59de55a652da1d7fc": {
          "model_module": "@jupyter-widgets/base",
          "model_name": "LayoutModel",
          "state": {
            "_view_name": "LayoutView",
            "grid_template_rows": null,
            "right": null,
            "justify_content": null,
            "_view_module": "@jupyter-widgets/base",
            "overflow": null,
            "_model_module_version": "1.2.0",
            "_view_count": null,
            "flex_flow": null,
            "width": null,
            "min_width": null,
            "border": null,
            "align_items": null,
            "bottom": null,
            "_model_module": "@jupyter-widgets/base",
            "top": null,
            "grid_column": null,
            "overflow_y": null,
            "overflow_x": null,
            "grid_auto_flow": null,
            "grid_area": null,
            "grid_template_columns": null,
            "flex": null,
            "_model_name": "LayoutModel",
            "justify_items": null,
            "grid_row": null,
            "max_height": null,
            "align_content": null,
            "visibility": null,
            "align_self": null,
            "height": null,
            "min_height": null,
            "padding": null,
            "grid_auto_rows": null,
            "grid_gap": null,
            "max_width": null,
            "order": null,
            "_view_module_version": "1.2.0",
            "grid_template_areas": null,
            "object_position": null,
            "object_fit": null,
            "grid_auto_columns": null,
            "margin": null,
            "display": null,
            "left": null
          }
        },
        "15b93a2157944cc6882690c1c1d7aa5f": {
          "model_module": "@jupyter-widgets/controls",
          "model_name": "HBoxModel",
          "state": {
            "_view_name": "HBoxView",
            "_dom_classes": [],
            "_model_name": "HBoxModel",
            "_view_module": "@jupyter-widgets/controls",
            "_model_module_version": "1.5.0",
            "_view_count": null,
            "_view_module_version": "1.5.0",
            "box_style": "",
            "layout": "IPY_MODEL_90d9b967a12649c2a401c0ab35d11623",
            "_model_module": "@jupyter-widgets/controls",
            "children": [
              "IPY_MODEL_0adcea0909ca41be983ae5f6c32695a4",
              "IPY_MODEL_f326d9593a254ee8a4ea686b4e6c47d9"
            ]
          }
        },
        "90d9b967a12649c2a401c0ab35d11623": {
          "model_module": "@jupyter-widgets/base",
          "model_name": "LayoutModel",
          "state": {
            "_view_name": "LayoutView",
            "grid_template_rows": null,
            "right": null,
            "justify_content": null,
            "_view_module": "@jupyter-widgets/base",
            "overflow": null,
            "_model_module_version": "1.2.0",
            "_view_count": null,
            "flex_flow": null,
            "width": null,
            "min_width": null,
            "border": null,
            "align_items": null,
            "bottom": null,
            "_model_module": "@jupyter-widgets/base",
            "top": null,
            "grid_column": null,
            "overflow_y": null,
            "overflow_x": null,
            "grid_auto_flow": null,
            "grid_area": null,
            "grid_template_columns": null,
            "flex": null,
            "_model_name": "LayoutModel",
            "justify_items": null,
            "grid_row": null,
            "max_height": null,
            "align_content": null,
            "visibility": null,
            "align_self": null,
            "height": null,
            "min_height": null,
            "padding": null,
            "grid_auto_rows": null,
            "grid_gap": null,
            "max_width": null,
            "order": null,
            "_view_module_version": "1.2.0",
            "grid_template_areas": null,
            "object_position": null,
            "object_fit": null,
            "grid_auto_columns": null,
            "margin": null,
            "display": null,
            "left": null
          }
        },
        "0adcea0909ca41be983ae5f6c32695a4": {
          "model_module": "@jupyter-widgets/controls",
          "model_name": "FloatProgressModel",
          "state": {
            "_view_name": "ProgressView",
            "style": "IPY_MODEL_f1833230daba4f55a728101a85a6afd7",
            "_dom_classes": [],
            "description": "100%",
            "_model_name": "FloatProgressModel",
            "bar_style": "success",
            "max": 30,
            "_view_module": "@jupyter-widgets/controls",
            "_model_module_version": "1.5.0",
            "value": 30,
            "_view_count": null,
            "_view_module_version": "1.5.0",
            "orientation": "horizontal",
            "min": 0,
            "description_tooltip": null,
            "_model_module": "@jupyter-widgets/controls",
            "layout": "IPY_MODEL_7e723407cbdf4c008db77031f31dfece"
          }
        },
        "f326d9593a254ee8a4ea686b4e6c47d9": {
          "model_module": "@jupyter-widgets/controls",
          "model_name": "HTMLModel",
          "state": {
            "_view_name": "HTMLView",
            "style": "IPY_MODEL_2dca4890fb5b48258a46536f9970f50e",
            "_dom_classes": [],
            "description": "",
            "_model_name": "HTMLModel",
            "placeholder": "​",
            "_view_module": "@jupyter-widgets/controls",
            "_model_module_version": "1.5.0",
            "value": " 30/30 [00:00&lt;00:00, 72.89it/s]",
            "_view_count": null,
            "_view_module_version": "1.5.0",
            "description_tooltip": null,
            "_model_module": "@jupyter-widgets/controls",
            "layout": "IPY_MODEL_9510b1613b7f4b9bb95ca108a8ecd373"
          }
        },
        "f1833230daba4f55a728101a85a6afd7": {
          "model_module": "@jupyter-widgets/controls",
          "model_name": "ProgressStyleModel",
          "state": {
            "_view_name": "StyleView",
            "_model_name": "ProgressStyleModel",
            "description_width": "initial",
            "_view_module": "@jupyter-widgets/base",
            "_model_module_version": "1.5.0",
            "_view_count": null,
            "_view_module_version": "1.2.0",
            "bar_color": null,
            "_model_module": "@jupyter-widgets/controls"
          }
        },
        "7e723407cbdf4c008db77031f31dfece": {
          "model_module": "@jupyter-widgets/base",
          "model_name": "LayoutModel",
          "state": {
            "_view_name": "LayoutView",
            "grid_template_rows": null,
            "right": null,
            "justify_content": null,
            "_view_module": "@jupyter-widgets/base",
            "overflow": null,
            "_model_module_version": "1.2.0",
            "_view_count": null,
            "flex_flow": null,
            "width": null,
            "min_width": null,
            "border": null,
            "align_items": null,
            "bottom": null,
            "_model_module": "@jupyter-widgets/base",
            "top": null,
            "grid_column": null,
            "overflow_y": null,
            "overflow_x": null,
            "grid_auto_flow": null,
            "grid_area": null,
            "grid_template_columns": null,
            "flex": null,
            "_model_name": "LayoutModel",
            "justify_items": null,
            "grid_row": null,
            "max_height": null,
            "align_content": null,
            "visibility": null,
            "align_self": null,
            "height": null,
            "min_height": null,
            "padding": null,
            "grid_auto_rows": null,
            "grid_gap": null,
            "max_width": null,
            "order": null,
            "_view_module_version": "1.2.0",
            "grid_template_areas": null,
            "object_position": null,
            "object_fit": null,
            "grid_auto_columns": null,
            "margin": null,
            "display": null,
            "left": null
          }
        },
        "2dca4890fb5b48258a46536f9970f50e": {
          "model_module": "@jupyter-widgets/controls",
          "model_name": "DescriptionStyleModel",
          "state": {
            "_view_name": "StyleView",
            "_model_name": "DescriptionStyleModel",
            "description_width": "",
            "_view_module": "@jupyter-widgets/base",
            "_model_module_version": "1.5.0",
            "_view_count": null,
            "_view_module_version": "1.2.0",
            "_model_module": "@jupyter-widgets/controls"
          }
        },
        "9510b1613b7f4b9bb95ca108a8ecd373": {
          "model_module": "@jupyter-widgets/base",
          "model_name": "LayoutModel",
          "state": {
            "_view_name": "LayoutView",
            "grid_template_rows": null,
            "right": null,
            "justify_content": null,
            "_view_module": "@jupyter-widgets/base",
            "overflow": null,
            "_model_module_version": "1.2.0",
            "_view_count": null,
            "flex_flow": null,
            "width": null,
            "min_width": null,
            "border": null,
            "align_items": null,
            "bottom": null,
            "_model_module": "@jupyter-widgets/base",
            "top": null,
            "grid_column": null,
            "overflow_y": null,
            "overflow_x": null,
            "grid_auto_flow": null,
            "grid_area": null,
            "grid_template_columns": null,
            "flex": null,
            "_model_name": "LayoutModel",
            "justify_items": null,
            "grid_row": null,
            "max_height": null,
            "align_content": null,
            "visibility": null,
            "align_self": null,
            "height": null,
            "min_height": null,
            "padding": null,
            "grid_auto_rows": null,
            "grid_gap": null,
            "max_width": null,
            "order": null,
            "_view_module_version": "1.2.0",
            "grid_template_areas": null,
            "object_position": null,
            "object_fit": null,
            "grid_auto_columns": null,
            "margin": null,
            "display": null,
            "left": null
          }
        },
        "c74c4e5ee68549fbb729bbc41822e5ce": {
          "model_module": "@jupyter-widgets/controls",
          "model_name": "HBoxModel",
          "state": {
            "_view_name": "HBoxView",
            "_dom_classes": [],
            "_model_name": "HBoxModel",
            "_view_module": "@jupyter-widgets/controls",
            "_model_module_version": "1.5.0",
            "_view_count": null,
            "_view_module_version": "1.5.0",
            "box_style": "",
            "layout": "IPY_MODEL_716281a43cea4c38a6deb34371f0ff47",
            "_model_module": "@jupyter-widgets/controls",
            "children": [
              "IPY_MODEL_28e2c789a0054731b102898c34faf4aa",
              "IPY_MODEL_d0b9e4778fff4f7ba210d9b2f75ef538"
            ]
          }
        },
        "716281a43cea4c38a6deb34371f0ff47": {
          "model_module": "@jupyter-widgets/base",
          "model_name": "LayoutModel",
          "state": {
            "_view_name": "LayoutView",
            "grid_template_rows": null,
            "right": null,
            "justify_content": null,
            "_view_module": "@jupyter-widgets/base",
            "overflow": null,
            "_model_module_version": "1.2.0",
            "_view_count": null,
            "flex_flow": null,
            "width": null,
            "min_width": null,
            "border": null,
            "align_items": null,
            "bottom": null,
            "_model_module": "@jupyter-widgets/base",
            "top": null,
            "grid_column": null,
            "overflow_y": null,
            "overflow_x": null,
            "grid_auto_flow": null,
            "grid_area": null,
            "grid_template_columns": null,
            "flex": null,
            "_model_name": "LayoutModel",
            "justify_items": null,
            "grid_row": null,
            "max_height": null,
            "align_content": null,
            "visibility": null,
            "align_self": null,
            "height": null,
            "min_height": null,
            "padding": null,
            "grid_auto_rows": null,
            "grid_gap": null,
            "max_width": null,
            "order": null,
            "_view_module_version": "1.2.0",
            "grid_template_areas": null,
            "object_position": null,
            "object_fit": null,
            "grid_auto_columns": null,
            "margin": null,
            "display": null,
            "left": null
          }
        },
        "28e2c789a0054731b102898c34faf4aa": {
          "model_module": "@jupyter-widgets/controls",
          "model_name": "FloatProgressModel",
          "state": {
            "_view_name": "ProgressView",
            "style": "IPY_MODEL_bf27d2145c354c09935fa14e7dc79297",
            "_dom_classes": [],
            "description": "100%",
            "_model_name": "FloatProgressModel",
            "bar_style": "success",
            "max": 35,
            "_view_module": "@jupyter-widgets/controls",
            "_model_module_version": "1.5.0",
            "value": 35,
            "_view_count": null,
            "_view_module_version": "1.5.0",
            "orientation": "horizontal",
            "min": 0,
            "description_tooltip": null,
            "_model_module": "@jupyter-widgets/controls",
            "layout": "IPY_MODEL_0690a37a502c40dea14e4b72cd41c3e1"
          }
        },
        "d0b9e4778fff4f7ba210d9b2f75ef538": {
          "model_module": "@jupyter-widgets/controls",
          "model_name": "HTMLModel",
          "state": {
            "_view_name": "HTMLView",
            "style": "IPY_MODEL_31aa39312b4f41bb830b6f7e5c85789c",
            "_dom_classes": [],
            "description": "",
            "_model_name": "HTMLModel",
            "placeholder": "​",
            "_view_module": "@jupyter-widgets/controls",
            "_model_module_version": "1.5.0",
            "value": " 35/35 [01:12&lt;00:00,  2.08s/it]",
            "_view_count": null,
            "_view_module_version": "1.5.0",
            "description_tooltip": null,
            "_model_module": "@jupyter-widgets/controls",
            "layout": "IPY_MODEL_56b394e67944476ebb38577792438e70"
          }
        },
        "bf27d2145c354c09935fa14e7dc79297": {
          "model_module": "@jupyter-widgets/controls",
          "model_name": "ProgressStyleModel",
          "state": {
            "_view_name": "StyleView",
            "_model_name": "ProgressStyleModel",
            "description_width": "initial",
            "_view_module": "@jupyter-widgets/base",
            "_model_module_version": "1.5.0",
            "_view_count": null,
            "_view_module_version": "1.2.0",
            "bar_color": null,
            "_model_module": "@jupyter-widgets/controls"
          }
        },
        "0690a37a502c40dea14e4b72cd41c3e1": {
          "model_module": "@jupyter-widgets/base",
          "model_name": "LayoutModel",
          "state": {
            "_view_name": "LayoutView",
            "grid_template_rows": null,
            "right": null,
            "justify_content": null,
            "_view_module": "@jupyter-widgets/base",
            "overflow": null,
            "_model_module_version": "1.2.0",
            "_view_count": null,
            "flex_flow": null,
            "width": null,
            "min_width": null,
            "border": null,
            "align_items": null,
            "bottom": null,
            "_model_module": "@jupyter-widgets/base",
            "top": null,
            "grid_column": null,
            "overflow_y": null,
            "overflow_x": null,
            "grid_auto_flow": null,
            "grid_area": null,
            "grid_template_columns": null,
            "flex": null,
            "_model_name": "LayoutModel",
            "justify_items": null,
            "grid_row": null,
            "max_height": null,
            "align_content": null,
            "visibility": null,
            "align_self": null,
            "height": null,
            "min_height": null,
            "padding": null,
            "grid_auto_rows": null,
            "grid_gap": null,
            "max_width": null,
            "order": null,
            "_view_module_version": "1.2.0",
            "grid_template_areas": null,
            "object_position": null,
            "object_fit": null,
            "grid_auto_columns": null,
            "margin": null,
            "display": null,
            "left": null
          }
        },
        "31aa39312b4f41bb830b6f7e5c85789c": {
          "model_module": "@jupyter-widgets/controls",
          "model_name": "DescriptionStyleModel",
          "state": {
            "_view_name": "StyleView",
            "_model_name": "DescriptionStyleModel",
            "description_width": "",
            "_view_module": "@jupyter-widgets/base",
            "_model_module_version": "1.5.0",
            "_view_count": null,
            "_view_module_version": "1.2.0",
            "_model_module": "@jupyter-widgets/controls"
          }
        },
        "56b394e67944476ebb38577792438e70": {
          "model_module": "@jupyter-widgets/base",
          "model_name": "LayoutModel",
          "state": {
            "_view_name": "LayoutView",
            "grid_template_rows": null,
            "right": null,
            "justify_content": null,
            "_view_module": "@jupyter-widgets/base",
            "overflow": null,
            "_model_module_version": "1.2.0",
            "_view_count": null,
            "flex_flow": null,
            "width": null,
            "min_width": null,
            "border": null,
            "align_items": null,
            "bottom": null,
            "_model_module": "@jupyter-widgets/base",
            "top": null,
            "grid_column": null,
            "overflow_y": null,
            "overflow_x": null,
            "grid_auto_flow": null,
            "grid_area": null,
            "grid_template_columns": null,
            "flex": null,
            "_model_name": "LayoutModel",
            "justify_items": null,
            "grid_row": null,
            "max_height": null,
            "align_content": null,
            "visibility": null,
            "align_self": null,
            "height": null,
            "min_height": null,
            "padding": null,
            "grid_auto_rows": null,
            "grid_gap": null,
            "max_width": null,
            "order": null,
            "_view_module_version": "1.2.0",
            "grid_template_areas": null,
            "object_position": null,
            "object_fit": null,
            "grid_auto_columns": null,
            "margin": null,
            "display": null,
            "left": null
          }
        },
        "2e36a9d3fa304c34892d4c7a7ebb53bf": {
          "model_module": "@jupyter-widgets/controls",
          "model_name": "HBoxModel",
          "state": {
            "_view_name": "HBoxView",
            "_dom_classes": [],
            "_model_name": "HBoxModel",
            "_view_module": "@jupyter-widgets/controls",
            "_model_module_version": "1.5.0",
            "_view_count": null,
            "_view_module_version": "1.5.0",
            "box_style": "",
            "layout": "IPY_MODEL_d89ea190ceef4b3ca86311b35e283bdd",
            "_model_module": "@jupyter-widgets/controls",
            "children": [
              "IPY_MODEL_d369c02651f848f7ad6fc1a700f6f000",
              "IPY_MODEL_cff4209db2c84ba0b66109e184aa7272"
            ]
          }
        },
        "d89ea190ceef4b3ca86311b35e283bdd": {
          "model_module": "@jupyter-widgets/base",
          "model_name": "LayoutModel",
          "state": {
            "_view_name": "LayoutView",
            "grid_template_rows": null,
            "right": null,
            "justify_content": null,
            "_view_module": "@jupyter-widgets/base",
            "overflow": null,
            "_model_module_version": "1.2.0",
            "_view_count": null,
            "flex_flow": null,
            "width": null,
            "min_width": null,
            "border": null,
            "align_items": null,
            "bottom": null,
            "_model_module": "@jupyter-widgets/base",
            "top": null,
            "grid_column": null,
            "overflow_y": null,
            "overflow_x": null,
            "grid_auto_flow": null,
            "grid_area": null,
            "grid_template_columns": null,
            "flex": null,
            "_model_name": "LayoutModel",
            "justify_items": null,
            "grid_row": null,
            "max_height": null,
            "align_content": null,
            "visibility": null,
            "align_self": null,
            "height": null,
            "min_height": null,
            "padding": null,
            "grid_auto_rows": null,
            "grid_gap": null,
            "max_width": null,
            "order": null,
            "_view_module_version": "1.2.0",
            "grid_template_areas": null,
            "object_position": null,
            "object_fit": null,
            "grid_auto_columns": null,
            "margin": null,
            "display": null,
            "left": null
          }
        },
        "d369c02651f848f7ad6fc1a700f6f000": {
          "model_module": "@jupyter-widgets/controls",
          "model_name": "FloatProgressModel",
          "state": {
            "_view_name": "ProgressView",
            "style": "IPY_MODEL_d823003e0fc04357baa27e5cb11df10f",
            "_dom_classes": [],
            "description": "100%",
            "_model_name": "FloatProgressModel",
            "bar_style": "success",
            "max": 30,
            "_view_module": "@jupyter-widgets/controls",
            "_model_module_version": "1.5.0",
            "value": 30,
            "_view_count": null,
            "_view_module_version": "1.5.0",
            "orientation": "horizontal",
            "min": 0,
            "description_tooltip": null,
            "_model_module": "@jupyter-widgets/controls",
            "layout": "IPY_MODEL_41ed26e36b4c442088b22f6d734cf478"
          }
        },
        "cff4209db2c84ba0b66109e184aa7272": {
          "model_module": "@jupyter-widgets/controls",
          "model_name": "HTMLModel",
          "state": {
            "_view_name": "HTMLView",
            "style": "IPY_MODEL_dd046a9cfbcb437b9ad8b6052e94d097",
            "_dom_classes": [],
            "description": "",
            "_model_name": "HTMLModel",
            "placeholder": "​",
            "_view_module": "@jupyter-widgets/controls",
            "_model_module_version": "1.5.0",
            "value": " 30/30 [00:26&lt;00:00,  1.14it/s]",
            "_view_count": null,
            "_view_module_version": "1.5.0",
            "description_tooltip": null,
            "_model_module": "@jupyter-widgets/controls",
            "layout": "IPY_MODEL_ae069761d9504cc2b65424af52634831"
          }
        },
        "d823003e0fc04357baa27e5cb11df10f": {
          "model_module": "@jupyter-widgets/controls",
          "model_name": "ProgressStyleModel",
          "state": {
            "_view_name": "StyleView",
            "_model_name": "ProgressStyleModel",
            "description_width": "initial",
            "_view_module": "@jupyter-widgets/base",
            "_model_module_version": "1.5.0",
            "_view_count": null,
            "_view_module_version": "1.2.0",
            "bar_color": null,
            "_model_module": "@jupyter-widgets/controls"
          }
        },
        "41ed26e36b4c442088b22f6d734cf478": {
          "model_module": "@jupyter-widgets/base",
          "model_name": "LayoutModel",
          "state": {
            "_view_name": "LayoutView",
            "grid_template_rows": null,
            "right": null,
            "justify_content": null,
            "_view_module": "@jupyter-widgets/base",
            "overflow": null,
            "_model_module_version": "1.2.0",
            "_view_count": null,
            "flex_flow": null,
            "width": null,
            "min_width": null,
            "border": null,
            "align_items": null,
            "bottom": null,
            "_model_module": "@jupyter-widgets/base",
            "top": null,
            "grid_column": null,
            "overflow_y": null,
            "overflow_x": null,
            "grid_auto_flow": null,
            "grid_area": null,
            "grid_template_columns": null,
            "flex": null,
            "_model_name": "LayoutModel",
            "justify_items": null,
            "grid_row": null,
            "max_height": null,
            "align_content": null,
            "visibility": null,
            "align_self": null,
            "height": null,
            "min_height": null,
            "padding": null,
            "grid_auto_rows": null,
            "grid_gap": null,
            "max_width": null,
            "order": null,
            "_view_module_version": "1.2.0",
            "grid_template_areas": null,
            "object_position": null,
            "object_fit": null,
            "grid_auto_columns": null,
            "margin": null,
            "display": null,
            "left": null
          }
        },
        "dd046a9cfbcb437b9ad8b6052e94d097": {
          "model_module": "@jupyter-widgets/controls",
          "model_name": "DescriptionStyleModel",
          "state": {
            "_view_name": "StyleView",
            "_model_name": "DescriptionStyleModel",
            "description_width": "",
            "_view_module": "@jupyter-widgets/base",
            "_model_module_version": "1.5.0",
            "_view_count": null,
            "_view_module_version": "1.2.0",
            "_model_module": "@jupyter-widgets/controls"
          }
        },
        "ae069761d9504cc2b65424af52634831": {
          "model_module": "@jupyter-widgets/base",
          "model_name": "LayoutModel",
          "state": {
            "_view_name": "LayoutView",
            "grid_template_rows": null,
            "right": null,
            "justify_content": null,
            "_view_module": "@jupyter-widgets/base",
            "overflow": null,
            "_model_module_version": "1.2.0",
            "_view_count": null,
            "flex_flow": null,
            "width": null,
            "min_width": null,
            "border": null,
            "align_items": null,
            "bottom": null,
            "_model_module": "@jupyter-widgets/base",
            "top": null,
            "grid_column": null,
            "overflow_y": null,
            "overflow_x": null,
            "grid_auto_flow": null,
            "grid_area": null,
            "grid_template_columns": null,
            "flex": null,
            "_model_name": "LayoutModel",
            "justify_items": null,
            "grid_row": null,
            "max_height": null,
            "align_content": null,
            "visibility": null,
            "align_self": null,
            "height": null,
            "min_height": null,
            "padding": null,
            "grid_auto_rows": null,
            "grid_gap": null,
            "max_width": null,
            "order": null,
            "_view_module_version": "1.2.0",
            "grid_template_areas": null,
            "object_position": null,
            "object_fit": null,
            "grid_auto_columns": null,
            "margin": null,
            "display": null,
            "left": null
          }
        }
      }
    },
    "accelerator": "GPU"
  },
  "cells": [
    {
      "cell_type": "markdown",
      "metadata": {
        "id": "view-in-github",
        "colab_type": "text"
      },
      "source": [
        "<a href=\"https://colab.research.google.com/github/Gaussiandra/RuREBus_NER_RE/blob/master/solution.ipynb\" target=\"_parent\"><img src=\"https://colab.research.google.com/assets/colab-badge.svg\" alt=\"Open In Colab\"/></a>"
      ]
    },
    {
      "cell_type": "code",
      "metadata": {
        "id": "Wkk06qgAG_To",
        "colab": {
          "base_uri": "https://localhost:8080/",
          "height": 35
        },
        "outputId": "73699017-2f9b-4965-8727-e122cd715783"
      },
      "source": [
        "from google.colab import drive\n",
        "drive.mount('/content/drive')\n",
        "\n",
        "global_path = '/content/drive/My Drive/ML/NLP sber/8/RuREBus/'\n",
        "global_repo_path = global_path+'data/RuREBus-master/'"
      ],
      "execution_count": null,
      "outputs": [
        {
          "output_type": "stream",
          "text": [
            "Drive already mounted at /content/drive; to attempt to forcibly remount, call drive.mount(\"/content/drive\", force_remount=True).\n"
          ],
          "name": "stdout"
        }
      ]
    },
    {
      "cell_type": "code",
      "metadata": {
        "id": "V3EVYctqoHX9",
        "colab": {
          "base_uri": "https://localhost:8080/",
          "height": 35
        },
        "outputId": "30144381-808b-450b-d89d-87f5b37650e1"
      },
      "source": [
        "%%writefile requirements.txt\n",
        "razdel\n",
        "ipymarkup\n",
        "pytorch-crf\n",
        "tensorflow-gpu==1.15.2\n",
        "deeppavlov\n",
        "russian_tagsets\n",
        "conllu"
      ],
      "execution_count": null,
      "outputs": [
        {
          "output_type": "stream",
          "text": [
            "Writing requirements.txt\n"
          ],
          "name": "stdout"
        }
      ]
    },
    {
      "cell_type": "code",
      "metadata": {
        "id": "GprfE9VsoOaG"
      },
      "source": [
        "!pip install -r requirements.txt\n",
        "!python -m deeppavlov install squad_bert\n",
        "!python -m deeppavlov install syntax_ru_syntagrus_bert"
      ],
      "execution_count": null,
      "outputs": []
    },
    {
      "cell_type": "code",
      "metadata": {
        "id": "GvLXFOdtMXm4"
      },
      "source": [
        "import numpy as np\n",
        "import torch\n",
        "import os\n",
        "import sys\n",
        "import razdel\n",
        "import ipymarkup\n",
        "import cloudpickle\n",
        "import conllu\n",
        "import re\n",
        "import networkx as nx\n",
        "import matplotlib.pyplot as plt\n",
        "from itertools import combinations\n",
        "from collections import Counter\n",
        "from torch import nn\n",
        "from torch.nn.utils.rnn import pad_sequence, pack_padded_sequence\n",
        "from torch.utils.data import Dataset, DataLoader\n",
        "from tqdm.notebook import tqdm\n",
        "from collections import namedtuple\n",
        "from torchcrf import CRF\n",
        "from zipfile import ZipFile\n",
        "from deeppavlov.models.embedders.elmo_embedder import ELMoEmbedder\n",
        "from deeppavlov import build_model, configs\n",
        "from nltk import DependencyGraph"
      ],
      "execution_count": null,
      "outputs": []
    },
    {
      "cell_type": "code",
      "metadata": {
        "id": "DqnI7OCtsDpf"
      },
      "source": [
        "elmo_embedder = ELMoEmbedder(\n",
        "    \"http://files.deeppavlov.ai/deeppavlov_data/elmo_ru-wiki_600k_steps.tar.gz\", \n",
        "    elmo_output_names=[\"elmo\"], \n",
        ")"
      ],
      "execution_count": null,
      "outputs": []
    },
    {
      "cell_type": "code",
      "metadata": {
        "id": "n7WvtiYUsHNp"
      },
      "source": [
        "syntax_model = build_model(configs.syntax.ru_syntagrus_joint_parsing, download=True)"
      ],
      "execution_count": null,
      "outputs": []
    },
    {
      "cell_type": "code",
      "metadata": {
        "id": "RDxGHJNdIpp2"
      },
      "source": [
        "DocRepr = namedtuple('DocRepr', 'text ann')\n",
        "RESentRepr = namedtuple('RESentRepr', 'doc_idx token_range graph re_type ent1_idx ent2_idx')\n",
        "WordsRepr = namedtuple('WordRepr', [\n",
        "    'raw_text', \n",
        "    'tokens', \n",
        "    'char_ids', \n",
        "    'ner_spans', \n",
        "    'labels',\n",
        "    'pos_tags',\n",
        "    'deprels', \n",
        "    'file_name', \n",
        "    'elmo_embedding'\n",
        "])\n",
        "\n",
        "class NER_RE_Dataset(Dataset):\n",
        "    def __init__(self, folder_path, syntax_model, elmo_embedder, sentence_wise,\n",
        "                 batch_size=2, is_train=True, \n",
        "                 custom_ent2idx=None,\n",
        "                 custom_idx2ent=None, \n",
        "                 custom_char2idx=None,\n",
        "                 custom_re2idx=None,\n",
        "                 custom_pos2idx=None,\n",
        "                 custom_deprel2idx=None):\n",
        "\n",
        "        self.folder_path = folder_path\n",
        "        self.sentence_wise = sentence_wise\n",
        "\n",
        "        self.docs = {}\n",
        "        for dirpath, dirnames, filenames in os.walk(self.folder_path):\n",
        "            for extension_file_name in filenames:\n",
        "                filename = extension_file_name[:extension_file_name.rfind('.')]\n",
        "                try:\n",
        "                    self.docs[filename] = DocRepr(\n",
        "                        open(os.path.join(dirpath, filename+'.txt')).read(),\n",
        "                        open(os.path.join(dirpath, filename+'.ann')).read(),\n",
        "                    )\n",
        "                except FileNotFoundError:\n",
        "                    print(f'\"{filename}\" was ignored.')                       \n",
        "\n",
        "        self.samples = []\n",
        "        self.ent2idx = {'OUT': 0} if is_train else custom_ent2idx\n",
        "        self.idx2ent = ['OUT'] if is_train else custom_idx2ent\n",
        "        self.char2idx = {'<pad>': 0, '<unk>': 1} if is_train else custom_char2idx\n",
        "        self.re2idx = {'NONE': 0} if is_train else custom_re2idx\n",
        "        self.pos2idx = {'<unk>': 0} if is_train else custom_pos2idx\n",
        "        self.deprel2idx = {'<unk>': 0} if is_train else custom_deprel2idx\n",
        "\n",
        "        self.skipped_sentences = 0\n",
        "        self.re_sentences = []\n",
        "        for doc_idx, (name, doc) in enumerate(tqdm(self.docs.items())):\n",
        "            tokens =  list(razdel.tokenize(doc.text))\n",
        "\n",
        "            ann_spans = [i.split('\\t') for i in doc.ann.split('\\n')]\n",
        "            ner_spans = {}\n",
        "            re_tokens = {}\n",
        "            for i in range(len(ann_spans)):\n",
        "                if ann_spans[i][0].startswith('T'):\n",
        "                    entity, start, stop = ann_spans[i][1].split()\n",
        "                    ner_spans[ann_spans[i][0]] = (entity, int(start), int(stop))\n",
        "                elif ann_spans[i][0].startswith('R'):\n",
        "                    # ['R1', 'TSK Arg1:T10 Arg2:T11']\n",
        "                    splitted_re = np.array(re.split('\\s|:', ann_spans[i][1]))\n",
        "                    if splitted_re[0] not in self.re2idx:\n",
        "                        self.re2idx[splitted_re[0]] = len(self.re2idx)\n",
        "                    re_tokens[ann_spans[i][0]] = splitted_re[[0, 2, 4]]\n",
        "\n",
        "            labels = []\n",
        "            T_name2token_idx = {}\n",
        "            for token in tokens:\n",
        "                label = self.ent2idx['OUT']\n",
        "                for T_name, (entity, start, stop) in ner_spans.items():\n",
        "                    if 'B-'+entity not in self.ent2idx and is_train:\n",
        "                        self.ent2idx['B-'+entity] = len(self.ent2idx)\n",
        "                        self.ent2idx['I-'+entity] = len(self.ent2idx)\n",
        "                        self.idx2ent += ['B-'+entity, 'I-'+entity]\n",
        "\n",
        "                    if token.start == start:\n",
        "                        label = self.ent2idx['B-'+entity]\n",
        "                        T_name2token_idx[T_name] = len(labels)\n",
        "                    elif token.start > start and token.stop <= stop:\n",
        "                        label = self.ent2idx['I-'+entity]\n",
        "                \n",
        "                labels.append(label)\n",
        "\n",
        "            char_ids = []\n",
        "            for token in tokens:\n",
        "                char_word_repr = []\n",
        "                for char in token.text:\n",
        "                    if char not in self.char2idx and is_train:\n",
        "                        self.char2idx[char] = len(self.char2idx)\n",
        "                    if not is_train and char not in self.char2idx:\n",
        "                        char_word_repr.append(self.char2idx['<unk>'])\n",
        "                    else:\n",
        "                        char_word_repr.append(self.char2idx[char])\n",
        "                char_ids.append(char_word_repr)\n",
        "            char_ids = np.array(char_ids)\n",
        "\n",
        "            pos_tags = []\n",
        "            deprels = []\n",
        "            sentenized_doc = list(razdel.sentenize(doc.text))\n",
        "            prev_stop, sent_num = 0, 0\n",
        "            for token_num, token in enumerate(tokens):\n",
        "                is_last_token = token_num + 1 == len(tokens)\n",
        "                if token.stop > sentenized_doc[sent_num].stop or is_last_token:\n",
        "                    text_sent_tokens = [i.text for i in tokens[prev_stop: token_num+is_last_token]]\n",
        "                    try:\n",
        "                        conllu_data = syntax_model([text_sent_tokens])[0]\n",
        "                        sent_graph = DependencyGraph(conllu_data).nx_graph().to_undirected()\n",
        "\n",
        "                        for word in conllu.parse(conllu_data)[0]:\n",
        "                            if word['upos'] not in self.pos2idx:\n",
        "                                self.pos2idx[word['upos']] = len(self.pos2idx)\n",
        "                            pos_tags.append(self.pos2idx[word['upos']])\n",
        "\n",
        "                        for word in conllu.parse(conllu_data)[0]:\n",
        "                            if word['deprel'] not in self.deprel2idx:\n",
        "                                self.deprel2idx[word['deprel']] = len(self.deprel2idx)\n",
        "                            deprels.append(self.deprel2idx[word['deprel']])\n",
        "                        \n",
        "                        for re_type, ent1, ent2 in re_tokens.values():\n",
        "                            if (ner_spans[ent1][1] >= tokens[prev_stop].start and\n",
        "                                ner_spans[ent1][2] <  tokens[token_num].stop and\n",
        "                                ner_spans[ent2][1] >= tokens[prev_stop].start and\n",
        "                                ner_spans[ent2][2] <  tokens[token_num].stop):\n",
        "                                self.re_sentences.append(RESentRepr(\n",
        "                                    doc_idx, \n",
        "                                    slice(prev_stop, token_num+is_last_token),\n",
        "                                    sent_graph,\n",
        "                                    re_type,\n",
        "                                    T_name2token_idx[ent1],\n",
        "                                    T_name2token_idx[ent2]\n",
        "                                ))\n",
        "                                break\n",
        "                        else:\n",
        "                            ner_sent_tokens_idx = [\n",
        "                                i for i, cur_label in enumerate(labels[prev_stop: token_num+is_last_token], prev_stop)\n",
        "                                if self.idx2ent[cur_label].startswith('B-')\n",
        "                            ]\n",
        "                            if len(ner_sent_tokens_idx) >= 2:\n",
        "                                for st, en in combinations(ner_sent_tokens_idx, 2):\n",
        "                                    self.re_sentences.append(RESentRepr(\n",
        "                                            doc_idx, \n",
        "                                            slice(prev_stop, token_num+is_last_token),\n",
        "                                            sent_graph,\n",
        "                                            'NONE',\n",
        "                                            st,\n",
        "                                            en\n",
        "                                        ))\n",
        "                    # sentenize может выдать слишком длинное предложение из-за которого падает syntax_model\n",
        "                    except RuntimeError:\n",
        "                        self.skipped_sentences += 1\n",
        "\n",
        "                        n_skipped_tokens = token_num+is_last_token - prev_stop\n",
        "                        pos_tags += n_skipped_tokens * [self.pos2idx['<unk>']]\n",
        "                        deprels += n_skipped_tokens * [self.deprel2idx['<unk>']]\n",
        "                    prev_stop = token_num\n",
        "                    sent_num += 1\n",
        "            assert len(pos_tags) == len(tokens), (len(pos_tags), len(tokens))\n",
        "            pos_tags = np.array(pos_tags)\n",
        "            deprels = np.array(deprels)\n",
        "\n",
        "            self.samples.append(WordsRepr(\n",
        "                doc.text,\n",
        "                tokens,\n",
        "                char_ids,\n",
        "                ner_spans,\n",
        "                labels,\n",
        "                pos_tags,\n",
        "                deprels,\n",
        "                name,\n",
        "                None,\n",
        "            ))\n",
        "\n",
        "        for batch_num in tqdm(range(0, len(self.samples), batch_size)):\n",
        "            embeddings = elmo_embedder([\n",
        "                [token.text for token in sample.tokens] \n",
        "                for sample in self.samples[batch_num:batch_num+batch_size]\n",
        "            ])\n",
        "            for i, emb in enumerate(embeddings):\n",
        "                self.samples[batch_num+i] = self.samples[batch_num+i]._replace(elmo_embedding = emb)\n",
        "\n",
        "        print(f'{self.skipped_sentences} sentences was skipped')\n",
        "\n",
        "    def __getitem__(self, idx):\n",
        "        if self.sentence_wise: \n",
        "            def prep_sentence(sent, ent1_idx, ent2_idx):\n",
        "                syntax_order = [\n",
        "                    sent.token_range.start+i-1 for i in nx.shortest_path(\n",
        "                    sent.graph, \n",
        "                    ent1_idx-sent.token_range.start+1, \n",
        "                    ent2_idx-sent.token_range.start+1\n",
        "                )]\n",
        "\n",
        "                return (\n",
        "                    self.samples[sent.doc_idx].elmo_embedding[sent.token_range],\n",
        "                    self.samples[sent.doc_idx].char_ids[sent.token_range],\n",
        "                    self.samples[sent.doc_idx].pos_tags[sent.token_range]\n",
        "                    ), (\n",
        "                    self.samples[sent.doc_idx].elmo_embedding[syntax_order],\n",
        "                    self.samples[sent.doc_idx].char_ids[syntax_order],\n",
        "                    self.samples[sent.doc_idx].pos_tags[syntax_order],\n",
        "                    self.samples[sent.doc_idx].deprels[syntax_order]\n",
        "                )\n",
        "\n",
        "            re_sent = self.re_sentences[idx]\n",
        "            return (\n",
        "                prep_sentence(re_sent, re_sent.ent1_idx, re_sent.ent2_idx),\n",
        "                self.re2idx[re_sent.re_type]\n",
        "            )\n",
        "        else:\n",
        "            return (\n",
        "                self.samples[idx].elmo_embedding,\n",
        "                self.samples[idx].char_ids,\n",
        "                self.samples[idx].labels,\n",
        "            )\n",
        "            \n",
        "    def __len__(self):\n",
        "        if self.sentence_wise:\n",
        "            return len(self.re_sentences)\n",
        "        else:\n",
        "            return len(self.samples)"
      ],
      "execution_count": null,
      "outputs": []
    },
    {
      "cell_type": "code",
      "metadata": {
        "id": "85j9zEgJMgIP",
        "colab": {
          "base_uri": "https://localhost:8080/",
          "height": 208,
          "referenced_widgets": [
            "daef6d991e894acbb68d7eec241184f5",
            "bc6a2342f2054eacbcc6d58ad8d6db69",
            "1ede75e02ff946f0aa953aff941e719e",
            "e19adf2fd6074608be5f6941839b4f83",
            "83d00d8853a046b7a8e70ce8aea3dc48",
            "956c0bcda5334ebe824711bc89014436",
            "6f42ccc68e50462aa915f1c0b96dd192",
            "f02e3d0cbbf443d3b971ea32dcdf9d2b",
            "90e6785e9abe49b9a558628187484530",
            "4e1c5055de3d478c83a3d112570e2e75",
            "879e71602e884b0cbd5df6533242a01d",
            "77d68ddead174de8945602a7304e6c82",
            "4edb8746465540a6b05f9074150594ce",
            "03a7d467b4c64d8eab0471703eadbee4",
            "14d2fc4ba8b543ae91125887e4387a19",
            "812e4966775f47b599fe85fb7352f1b9"
          ]
        },
        "outputId": "7fd7f687-981e-4aac-d322-362ad8127e93"
      },
      "source": [
        "task12_train_ds = NER_RE_Dataset(global_repo_path+'train_data/train_parts', \n",
        "                                syntax_model, elmo_embedder, sentence_wise=True)"
      ],
      "execution_count": null,
      "outputs": [
        {
          "output_type": "stream",
          "text": [
            "\"\" was ignored.\n"
          ],
          "name": "stdout"
        },
        {
          "output_type": "display_data",
          "data": {
            "application/vnd.jupyter.widget-view+json": {
              "model_id": "daef6d991e894acbb68d7eec241184f5",
              "version_minor": 0,
              "version_major": 2
            },
            "text/plain": [
              "HBox(children=(FloatProgress(value=0.0, max=188.0), HTML(value='')))"
            ]
          },
          "metadata": {
            "tags": []
          }
        },
        {
          "output_type": "stream",
          "text": [
            "/usr/local/lib/python3.6/dist-packages/nltk/parse/dependencygraph.py:399: UserWarning: The graph doesn't contain a node that depends on the root element.\n",
            "  \"The graph doesn't contain a node \" \"that depends on the root element.\"\n"
          ],
          "name": "stderr"
        },
        {
          "output_type": "stream",
          "text": [
            "\n"
          ],
          "name": "stdout"
        },
        {
          "output_type": "display_data",
          "data": {
            "application/vnd.jupyter.widget-view+json": {
              "model_id": "90e6785e9abe49b9a558628187484530",
              "version_minor": 0,
              "version_major": 2
            },
            "text/plain": [
              "HBox(children=(FloatProgress(value=0.0, max=94.0), HTML(value='')))"
            ]
          },
          "metadata": {
            "tags": []
          }
        },
        {
          "output_type": "stream",
          "text": [
            "\n",
            "8 sentences was skipped\n"
          ],
          "name": "stdout"
        }
      ]
    },
    {
      "cell_type": "code",
      "metadata": {
        "id": "DOv8tQ5n6Kuc",
        "colab": {
          "base_uri": "https://localhost:8080/",
          "height": 190,
          "referenced_widgets": [
            "b46d8d3c50104c0f9f92d5678c0bb528",
            "11bb3e2bdc2d44f9bafe210349a12ece",
            "f603d3ed420643548c3a8ed965bb9bdd",
            "e809ad08f2884c1494e063074408e29a",
            "39644a9566c645e6b46d80564a6d9aa5",
            "fcfbaa1e1ed54d06ba3862b9e2c9fd2d",
            "59d3761c42374526b06de5ff198fd045",
            "2937d037918c45f2aa5275d16e098ac4",
            "4663503811244c338b051363e57962a9",
            "5b41377709bc403a882ccd2ed1adc6f2",
            "0b781fc29b4c411c8e7b673058b4083f",
            "adaf0efc363249ada3709f75de545913",
            "4ac153984a1f45648983b9f27dbcb0d8",
            "5295a668b63d45e2b8c654c66ce5ec5b",
            "3231f646af704d05812e8320ffc4c06a",
            "cc6b42e09e6e4cee9070c59e21dc27f5"
          ]
        },
        "outputId": "c6aa465e-34b7-4188-a512-080dbe0da8ee"
      },
      "source": [
        "task12_test_ds = NER_RE_Dataset(global_repo_path+'test_data/test_parts',\n",
        "                             syntax_model, elmo_embedder, sentence_wise=True, is_train=False,\n",
        "                             custom_ent2idx=task12_train_ds.ent2idx,\n",
        "                             custom_idx2ent=task12_train_ds.idx2ent,\n",
        "                             custom_char2idx=task12_train_ds.char2idx,\n",
        "                             custom_re2idx=task12_train_ds.re2idx,\n",
        "                             custom_pos2idx=task12_train_ds.pos2idx,\n",
        "                             custom_deprel2idx=task12_train_ds.deprel2idx)"
      ],
      "execution_count": null,
      "outputs": [
        {
          "output_type": "display_data",
          "data": {
            "application/vnd.jupyter.widget-view+json": {
              "model_id": "b46d8d3c50104c0f9f92d5678c0bb528",
              "version_minor": 0,
              "version_major": 2
            },
            "text/plain": [
              "HBox(children=(FloatProgress(value=0.0, max=30.0), HTML(value='')))"
            ]
          },
          "metadata": {
            "tags": []
          }
        },
        {
          "output_type": "stream",
          "text": [
            "/usr/local/lib/python3.6/dist-packages/nltk/parse/dependencygraph.py:399: UserWarning: The graph doesn't contain a node that depends on the root element.\n",
            "  \"The graph doesn't contain a node \" \"that depends on the root element.\"\n"
          ],
          "name": "stderr"
        },
        {
          "output_type": "stream",
          "text": [
            "\n"
          ],
          "name": "stdout"
        },
        {
          "output_type": "display_data",
          "data": {
            "application/vnd.jupyter.widget-view+json": {
              "model_id": "4663503811244c338b051363e57962a9",
              "version_minor": 0,
              "version_major": 2
            },
            "text/plain": [
              "HBox(children=(FloatProgress(value=0.0, max=15.0), HTML(value='')))"
            ]
          },
          "metadata": {
            "tags": []
          }
        },
        {
          "output_type": "stream",
          "text": [
            "\n",
            "0 sentences was skipped\n"
          ],
          "name": "stdout"
        }
      ]
    },
    {
      "cell_type": "code",
      "metadata": {
        "id": "JT4N1LCV55xe",
        "colab": {
          "base_uri": "https://localhost:8080/",
          "height": 35
        },
        "outputId": "8f0a52ff-8e02-41b0-b0a7-e10067c623e1"
      },
      "source": [
        "(len(task12_train_ds), \n",
        " len(task12_train_ds.ent2idx), \n",
        " len(task12_train_ds.char2idx), \n",
        " len(task12_train_ds.re2idx),\n",
        " len(task12_train_ds.pos2idx),\n",
        " len(task12_train_ds.deprel2idx))"
      ],
      "execution_count": null,
      "outputs": [
        {
          "output_type": "execute_result",
          "data": {
            "text/plain": [
              "(8470, 17, 179, 12, 19, 38)"
            ]
          },
          "metadata": {
            "tags": []
          },
          "execution_count": 25
        }
      ]
    },
    {
      "cell_type": "code",
      "metadata": {
        "id": "04EoIrtDd8k9",
        "colab": {
          "base_uri": "https://localhost:8080/",
          "height": 230
        },
        "outputId": "e4187c77-275f-4a90-8006-8e406af2f788"
      },
      "source": [
        "Counter(map(lambda x: x.re_type, task12_train_ds.re_sentences))"
      ],
      "execution_count": null,
      "outputs": [
        {
          "output_type": "execute_result",
          "data": {
            "text/plain": [
              "Counter({'FNG': 98,\n",
              "         'FNT': 75,\n",
              "         'FPS': 342,\n",
              "         'GOL': 1326,\n",
              "         'NNG': 370,\n",
              "         'NNT': 317,\n",
              "         'NONE': 37660,\n",
              "         'NPS': 408,\n",
              "         'PNG': 54,\n",
              "         'PNT': 127,\n",
              "         'PPS': 307,\n",
              "         'TSK': 1681})"
            ]
          },
          "metadata": {
            "tags": []
          },
          "execution_count": 12
        }
      ]
    },
    {
      "cell_type": "code",
      "metadata": {
        "id": "AyHYVozfsaJy"
      },
      "source": [
        "def pad_seq(batch):\n",
        "    emb = [torch.tensor(sample[0]) for sample in batch]\n",
        "\n",
        "    max_word_len = max([len(word) for sample in batch for word in sample[1]])\n",
        "    max_word_len = min(50, max_word_len)\n",
        "    char_list = []\n",
        "    for sample in batch:\n",
        "        words = []\n",
        "        for word in sample[1]:\n",
        "            words.append(word[:max_word_len] + [0]*(max_word_len-len(word)))\n",
        "        char_list.append(torch.tensor(words))\n",
        "\n",
        "    pos_tags = [torch.tensor(sample[2]) for sample in batch]\n",
        "\n",
        "    padded_emb = pad_sequence(emb, batch_first=True)\n",
        "    padded_chars = pad_sequence(char_list, batch_first=True)\n",
        "    padded_pos_tags = pad_sequence(pos_tags, batch_first=True)\n",
        "\n",
        "    if len(sample) == 4:\n",
        "        deprels = [torch.tensor(sample[3]) for sample in batch]\n",
        "        padded_deprels = pad_sequence(deprels, batch_first=True)\n",
        "        return padded_emb, padded_chars, padded_pos_tags, padded_deprels\n",
        "    else:\n",
        "        return padded_emb, padded_chars, padded_pos_tags\n",
        "\n",
        "device = torch.device('cuda:0') if torch.cuda.is_available() else torch.device('cpu')"
      ],
      "execution_count": null,
      "outputs": []
    },
    {
      "cell_type": "code",
      "metadata": {
        "id": "EMmI2Ut9v5QT"
      },
      "source": [
        "lib_path = os.path.abspath(os.path.join(global_repo_path, 'eval_scripts'))\n",
        "sys.path.append(lib_path)\n",
        "import evaluate_ners, evaluate_rels, brat_format"
      ],
      "execution_count": null,
      "outputs": []
    },
    {
      "cell_type": "markdown",
      "metadata": {
        "id": "aQl_lT48ZAPU"
      },
      "source": [
        "### NER"
      ]
    },
    {
      "cell_type": "code",
      "metadata": {
        "id": "eRjjfPYQryhj"
      },
      "source": [
        "batch_size = 2\n",
        "\n",
        "train_iter = DataLoader(task12_train_ds, batch_size, collate_fn=pad_seq, shuffle=True, pin_memory=True, num_workers=2)\n",
        "test_iter = DataLoader(task12_test_ds, batch_size,  collate_fn=pad_seq)"
      ],
      "execution_count": null,
      "outputs": []
    },
    {
      "cell_type": "code",
      "metadata": {
        "id": "8mnXIDfaM1ZS"
      },
      "source": [
        "class NERModel(nn.Module):\n",
        "    def __init__(self, n_classes=17, n_chars=179):\n",
        "        super().__init__()\n",
        "\n",
        "        self.char_embedding = nn.Embedding(n_chars, 250)\n",
        "        convolution_params = [(3, 75), (4, 75), (5, 75), (4, 75), (7, 50)]\n",
        "        self.conv_list = nn.ModuleList([nn.Conv2d(1, n, (k, 250)) for k, n in convolution_params])\n",
        "        self.lstm = nn.LSTM(1374, 256, num_layers=2, batch_first=True, dropout=0.1, bidirectional=True)\n",
        "        self.dropout_layer = nn.Dropout(0.1)\n",
        "        self.output_layer = nn.Linear(2*256, n_classes)\n",
        "\n",
        "    def forward(self, elmo_emb, chars):\n",
        "        char_emb = self.char_embedding(chars)\n",
        "        \n",
        "        conv_res = []\n",
        "        for f in self.conv_list:\n",
        "            convolved_res = f(char_emb.reshape(-1, 1, char_emb.shape[2], char_emb.shape[3]))\n",
        "            conv_res.append(convolved_res.max(dim=2)[0].squeeze(2).reshape(*char_emb.shape[:2], f.out_channels))\n",
        "        conv_res = torch.cat(conv_res, dim=2)\n",
        "        \n",
        "        elmo_cnn_features = torch.cat([elmo_emb.detach(), conv_res], dim=2)\n",
        "        x, _ = self.lstm(elmo_cnn_features)\n",
        "        x = self.dropout_layer(x)\n",
        "        x = self.output_layer(x)\n",
        "        return x\n",
        "\n",
        "model1 = NERModel().to(device)"
      ],
      "execution_count": null,
      "outputs": []
    },
    {
      "cell_type": "code",
      "metadata": {
        "id": "ZdXoLG552uz9",
        "colab": {
          "base_uri": "https://localhost:8080/",
          "height": 35
        },
        "outputId": "0ea391be-5af5-4841-e67a-9064c91d1b35"
      },
      "source": [
        "loss_fn = CRF(17, batch_first=True).to(device)\n",
        "optimizer = torch.optim.Adam(model1.parameters(), lr=0.001)\n",
        "losses = []\n",
        "n_iter = 0\n",
        "\n",
        "print(sum(p.numel() for p in model1.parameters()))"
      ],
      "execution_count": null,
      "outputs": [
        {
          "output_type": "stream",
          "text": [
            "5360617\n"
          ],
          "name": "stdout"
        }
      ]
    },
    {
      "cell_type": "code",
      "metadata": {
        "id": "cljlg4zZ_TOz"
      },
      "source": [
        "for epoch in range(10):\n",
        "    for elmo_emb, chars, y in tqdm(train_iter):\n",
        "        optimizer.zero_grad()\n",
        "        model1.train()\n",
        "\n",
        "        elmo_emb, chars, y = elmo_emb.to(device), chars.to(device), y.to(device)\n",
        "        y_pred = model1(elmo_emb, chars)\n",
        "\n",
        "        loss = -loss_fn(y_pred, y)\n",
        "        loss.backward()\n",
        "        optimizer.step()\n",
        "\n",
        "        losses.append(loss.item())\n",
        "        n_iter += 1\n",
        "        if n_iter % 5 == 0:\n",
        "            print(n_iter, np.mean(losses[-5:]))"
      ],
      "execution_count": null,
      "outputs": []
    },
    {
      "cell_type": "code",
      "metadata": {
        "id": "f1e3K_1n8-7V"
      },
      "source": [
        "#pickle.dump(model1, open(global_repo_path+'model1_1024.pkl', 'wb'))\n",
        "\n",
        "model1 = pickle.load(open(global_repo_path+'model1_1024.pkl', 'rb'))\n",
        "model1.lstm.flatten_parameters()"
      ],
      "execution_count": null,
      "outputs": []
    },
    {
      "cell_type": "code",
      "metadata": {
        "id": "k17lglx3BWjg",
        "colab": {
          "base_uri": "https://localhost:8080/",
          "height": 67,
          "referenced_widgets": [
            "f5ee5a1b4a394ed6a73ad0372502625b",
            "65e8e47e4f4a45bc83ec511328a1dbee",
            "92d4ffbc95c747f3b41443d15b4e2d37",
            "9bc57d65143742f292501ff3ce9eec05",
            "a3fb80fbe20241f6a642192abad3946f",
            "708b65113e6c414bbbf9a2288d402517",
            "f0a492032c5840e3a5a4ba0423638193",
            "2d6429e6d7124af59de55a652da1d7fc"
          ]
        },
        "outputId": "3eafe97f-728a-40c3-9cca-37e94e697b45"
      },
      "source": [
        "final_predicts = []\n",
        "for batch_idx, (elmo_emb, chars, y) in enumerate(tqdm(test_iter)):\n",
        "    model1.eval()\n",
        "\n",
        "    elmo_emb, chars, y = elmo_emb.to(device), chars.to(device), y.to(device)\n",
        "    y_pred = model1(elmo_emb, chars)\n",
        "\n",
        "    for sample_idx, sample in enumerate(y_pred):\n",
        "        cur_len = len(task1_test_ds.samples[batch_idx*batch_size + sample_idx].tokens)\n",
        "        final_predicts.append(torch.argmax(sample[:cur_len], dim=1).cpu().numpy())"
      ],
      "execution_count": null,
      "outputs": [
        {
          "output_type": "display_data",
          "data": {
            "application/vnd.jupyter.widget-view+json": {
              "model_id": "f5ee5a1b4a394ed6a73ad0372502625b",
              "version_minor": 0,
              "version_major": 2
            },
            "text/plain": [
              "HBox(children=(FloatProgress(value=0.0, max=5.0), HTML(value='')))"
            ]
          },
          "metadata": {
            "tags": []
          }
        },
        {
          "output_type": "stream",
          "text": [
            "\n"
          ],
          "name": "stdout"
        }
      ]
    },
    {
      "cell_type": "code",
      "metadata": {
        "id": "IfXDIOJvtjlk"
      },
      "source": [
        "idx2ent = {}\n",
        "for k, v in task1_test_ds.ent2idx.items():\n",
        "    idx2ent[v] = k"
      ],
      "execution_count": null,
      "outputs": []
    },
    {
      "cell_type": "code",
      "metadata": {
        "id": "GwpN02xSyijq",
        "colab": {
          "base_uri": "https://localhost:8080/",
          "height": 67,
          "referenced_widgets": [
            "15b93a2157944cc6882690c1c1d7aa5f",
            "90d9b967a12649c2a401c0ab35d11623",
            "0adcea0909ca41be983ae5f6c32695a4",
            "f326d9593a254ee8a4ea686b4e6c47d9",
            "f1833230daba4f55a728101a85a6afd7",
            "7e723407cbdf4c008db77031f31dfece",
            "2dca4890fb5b48258a46536f9970f50e",
            "9510b1613b7f4b9bb95ca108a8ecd373"
          ]
        },
        "outputId": "0eaca2c1-7306-416f-bd27-4398a2dee684"
      },
      "source": [
        "n_ners = 0\n",
        "for sample_num, sample in enumerate(tqdm(final_predicts)):\n",
        "    orig_sample = task1_test_ds.samples[sample_num]\n",
        "    brat_doc = brat_format.BratDoc(orig_sample.raw_text)\n",
        "\n",
        "    # Убираем неконсистентность\n",
        "    out_idx = task1_test_ds.ent2idx['OUT']\n",
        "    for token_num, token in enumerate(sample):\n",
        "        if idx2ent[token].startswith('I-'):\n",
        "            if token_num == 0:\n",
        "                sample[token_num] = out_idx\n",
        "            elif sample[token_num - 1] == out_idx:\n",
        "                sample[token_num] = out_idx\n",
        "\n",
        "    brat_spans = []\n",
        "    for token_num, token in enumerate(sample):\n",
        "        if idx2ent[token].startswith('B-'):\n",
        "            brat_spans.append([\n",
        "                idx2ent[token][2:], \n",
        "                orig_sample.tokens[token_num].start,\n",
        "                orig_sample.tokens[token_num].stop,\n",
        "            ])\n",
        "        elif idx2ent[token].startswith('I-') and len(brat_spans) and brat_spans[-1][0] == idx2ent[token][2:]:\n",
        "            brat_spans[-1][2] =  orig_sample.tokens[token_num].stop\n",
        "\n",
        "    for span in brat_spans:\n",
        "        n_ners += 1\n",
        "        brat_doc.add_ner(n_ners, *span)\n",
        "\n",
        "    brat_doc.write_to_file(global_repo_path+f'test_data/pred_parts/{orig_sample.file_name}.ann')"
      ],
      "execution_count": null,
      "outputs": [
        {
          "output_type": "display_data",
          "data": {
            "application/vnd.jupyter.widget-view+json": {
              "model_id": "15b93a2157944cc6882690c1c1d7aa5f",
              "version_minor": 0,
              "version_major": 2
            },
            "text/plain": [
              "HBox(children=(FloatProgress(value=0.0, max=30.0), HTML(value='')))"
            ]
          },
          "metadata": {
            "tags": []
          }
        },
        {
          "output_type": "stream",
          "text": [
            "\n"
          ],
          "name": "stdout"
        }
      ]
    },
    {
      "cell_type": "code",
      "metadata": {
        "id": "GYTrMZA2B9jh",
        "colab": {
          "base_uri": "https://localhost:8080/",
          "height": 35
        },
        "outputId": "f1c8f66b-ff44-4ed1-ea08-f27b86301ffc"
      },
      "source": [
        "evaluate_ners.calc_ner_f1(global_repo_path+f'test_data/test_parts/', \n",
        "                          global_repo_path+f'test_data/pred_parts/')"
      ],
      "execution_count": null,
      "outputs": [
        {
          "output_type": "execute_result",
          "data": {
            "text/plain": [
              "0.4928182807399347"
            ]
          },
          "metadata": {
            "tags": []
          },
          "execution_count": 25
        }
      ]
    },
    {
      "cell_type": "markdown",
      "metadata": {
        "id": "-9LD0lz_ZDRu"
      },
      "source": [
        "### RE"
      ]
    },
    {
      "cell_type": "markdown",
      "metadata": {
        "id": "7QaW3ZaaPLR-"
      },
      "source": [
        "https://www.aclweb.org/anthology/P16-1072.pdf"
      ]
    },
    {
      "cell_type": "code",
      "metadata": {
        "id": "XgIUzGkiTU2k"
      },
      "source": [
        "class BasicModel(nn.Module):\n",
        "    def __init__(self, n_classes, n_chars, n_pos_tags, n_deprels):\n",
        "        super().__init__()\n",
        "\n",
        "        self.use_deprel = n_deprels is not None\n",
        "\n",
        "        local_convolution_params = [(3, 75), (4, 75), (5, 75), (6, 75), (7, 50)]\n",
        "        global_convolution_params = [(3, 75), (4, 75), (5, 75), (6, 75), (7, 50), (8, 50)]\n",
        "        self.dropout_layer = nn.Dropout(0.1)\n",
        "\n",
        "        self.char_embedding = nn.Embedding(n_chars, 250)\n",
        "        self.pos_embedding = nn.Embedding(n_pos_tags, 32)\n",
        "        if self.use_deprel:\n",
        "            self.deprel_embedding = nn.Embedding(n_deprels, 32)\n",
        "        self.local_conv_list = nn.ModuleList([nn.Conv2d(1, n, (k, 250)) for k, n in local_convolution_params])\n",
        "\n",
        "        lstm_input_size = 1438 if self.use_deprel else 1406\n",
        "        self.lstm = nn.LSTM(lstm_input_size, 256, num_layers=2, batch_first=True, dropout=0.1, bidirectional=True)\n",
        "\n",
        "        self.global_conv_list = nn.ModuleList([nn.Conv2d(1, n, (k, 512)) for k, n in global_convolution_params])\n",
        "        self.output_head = nn.Linear(400, n_classes)\n",
        "    \n",
        "    def forward(self, elmo_emb, chars, pos, deprels):\n",
        "        char_emb = self.char_embedding(chars)\n",
        "\n",
        "        conv_res = []\n",
        "        for f in self.local_conv_list:\n",
        "            convolved_res = f(char_emb.reshape(-1, 1, char_emb.shape[2], char_emb.shape[3]))\n",
        "            conv_res.append(convolved_res.max(dim=2)[0].squeeze(2).reshape(*char_emb.shape[:2], f.out_channels))\n",
        "        conv_res = torch.cat(conv_res, dim=2)\n",
        "\n",
        "        head_features = torch.cat([\n",
        "            elmo_emb.detach(),\n",
        "            self.pos_embedding(pos),\n",
        "            self.deprel_embedding(deprels) if self.use_deprel else torch.tensor([], device=device),\n",
        "            conv_res\n",
        "        ], dim=2)\n",
        "\n",
        "        lstm_output, _ = self.lstm(head_features)\n",
        "        conv_res = []\n",
        "        for f in self.global_conv_list:\n",
        "            convolved_res = f(lstm_output.reshape(-1, 1, lstm_output.shape[1], lstm_output.shape[2]))\n",
        "            conv_res.append(convolved_res.max(dim=2)[0].squeeze(2))\n",
        "        conv_res = torch.cat(conv_res, dim=1)\n",
        "        \n",
        "        output = self.output_head(conv_res)\n",
        "\n",
        "        return conv_res, output\n",
        "\n",
        "class REModel(nn.Module):\n",
        "    def __init__(self, n_classes=17, n_chars=179, n_pos_tags=19, n_deprels=38):\n",
        "        super().__init__()\n",
        "\n",
        "        self.head1 = BasicModel(n_classes, n_chars, n_pos_tags, None)\n",
        "        self.head2 = BasicModel(n_classes, n_chars, n_pos_tags, n_deprels)\n",
        "        self.final_output = nn.Linear(2*400, n_classes)\n",
        "\n",
        "    def forward(self, orig_elmo_emb, orig_chars, orig_pos, \n",
        "                syntax_elmo_emb, syntax_chars, syntax_pos, syntax_deprels):\n",
        "        features1, output1 = self.head1(orig_elmo_emb, orig_chars, orig_pos, None)\n",
        "        features2, output2 = self.head2(syntax_elmo_emb, syntax_chars, syntax_pos, syntax_deprels)\n",
        "        all_features = torch.cat([features1, features2], dim=1)\n",
        "        final_output = self.final_output(all_features)\n",
        "        return output1, output2, final_output\n",
        "\n",
        "model2 = REModel().to(device)"
      ],
      "execution_count": null,
      "outputs": []
    },
    {
      "cell_type": "code",
      "metadata": {
        "id": "87risS_ma2Sf"
      },
      "source": [
        "def re_col(batch):\n",
        "    orig_sent, syntax_sent, re = [], [], []\n",
        "    for sample in batch:\n",
        "        orig_sent.append(sample[0][0])\n",
        "        syntax_sent.append(sample[0][1])\n",
        "        re.append(sample[1])\n",
        "    return pad_seq(orig_sent), pad_seq(syntax_sent), torch.tensor(re)"
      ],
      "execution_count": null,
      "outputs": []
    },
    {
      "cell_type": "code",
      "metadata": {
        "id": "yIVPHnNJZD4l"
      },
      "source": [
        "batch_size = 96\n",
        "\n",
        "train_iter_re = DataLoader(task12_train_ds, batch_size, collate_fn=re_col, shuffle=True, pin_memory=True, num_workers=2)\n",
        "test_iter_re = DataLoader(task12_test_ds, 150, collate_fn=re_col)"
      ],
      "execution_count": null,
      "outputs": []
    },
    {
      "cell_type": "code",
      "metadata": {
        "id": "qF4bCWbaofQF",
        "colab": {
          "base_uri": "https://localhost:8080/",
          "height": 35
        },
        "outputId": "9827097e-5675-483d-9d3d-fc15b97b836e"
      },
      "source": [
        "loss_fn = nn.CrossEntropyLoss()\n",
        "optimizer = torch.optim.Adam(model2.parameters(), lr=0.001)\n",
        "losses = []\n",
        "n_iter = 0\n",
        "\n",
        "print(sum(p.numel() for p in model2.parameters()))"
      ],
      "execution_count": null,
      "outputs": [
        {
          "output_type": "stream",
          "text": [
            "13156283\n"
          ],
          "name": "stdout"
        }
      ]
    },
    {
      "cell_type": "code",
      "metadata": {
        "id": "ZVL42gPyofQK"
      },
      "source": [
        "for epoch in range(10):\n",
        "    for orig_sent, syntax_sent, labels in tqdm(train_iter_re):\n",
        "\n",
        "        orig_sent = list(map(lambda x: x.to(device), orig_sent))\n",
        "        syntax_sent = list(map(lambda x: x.to(device), syntax_sent))\n",
        "        labels = labels.to(device)\n",
        "\n",
        "        optimizer.zero_grad()\n",
        "        model2.train()\n",
        "        \n",
        "        y_pred1, y_pred2, main_pred = model2(*orig_sent, *syntax_sent)\n",
        "\n",
        "        loss = (\n",
        "            0.25*loss_fn(y_pred1, labels) + \n",
        "            0.25*loss_fn(y_pred2, labels) + \n",
        "            0.5*loss_fn(main_pred, labels)\n",
        "        )\n",
        "\n",
        "        loss.backward()\n",
        "        optimizer.step()\n",
        "\n",
        "        losses.append(loss.item())\n",
        "        n_iter += 1\n",
        "        if n_iter % 150 == 0:\n",
        "            print(n_iter, np.mean(losses[-150:]))\n",
        "\n",
        "    cloudpickle.dump(model2, open(global_repo_path+'model2.pkl', 'wb'))\n",
        "    cloudpickle.dump(optimizer, open(global_repo_path+'optimizer2.pkl', 'wb'))"
      ],
      "execution_count": null,
      "outputs": []
    },
    {
      "cell_type": "code",
      "metadata": {
        "id": "aXUQZsOj_AgV"
      },
      "source": [
        "model2 = cloudpickle.load(open(global_repo_path+'model2.pkl', 'rb'))\n",
        "model2.head1.lstm.flatten_parameters()\n",
        "model2.head2.lstm.flatten_parameters()"
      ],
      "execution_count": null,
      "outputs": []
    },
    {
      "cell_type": "code",
      "metadata": {
        "id": "ZTzxiQ5lwlVw",
        "colab": {
          "base_uri": "https://localhost:8080/",
          "height": 67,
          "referenced_widgets": [
            "c74c4e5ee68549fbb729bbc41822e5ce",
            "716281a43cea4c38a6deb34371f0ff47",
            "28e2c789a0054731b102898c34faf4aa",
            "d0b9e4778fff4f7ba210d9b2f75ef538",
            "bf27d2145c354c09935fa14e7dc79297",
            "0690a37a502c40dea14e4b72cd41c3e1",
            "31aa39312b4f41bb830b6f7e5c85789c",
            "56b394e67944476ebb38577792438e70"
          ]
        },
        "outputId": "a995494e-f44c-4ece-fefc-3cfa77ec2931"
      },
      "source": [
        "final_predicts = []\n",
        "for orig_sent, syntax_sent, _ in tqdm(test_iter_re):\n",
        "    model2.eval()\n",
        "    \n",
        "    orig_sent = list(map(lambda x: x.to(device), orig_sent))\n",
        "    syntax_sent = list(map(lambda x: x.to(device), syntax_sent))\n",
        "\n",
        "    y_pred1, y_pred2, final_pred = model2(*orig_sent, *syntax_sent)\n",
        "\n",
        "    final_pred = 0.25*y_pred1 + 0.25*y_pred2 + 0.5*final_pred\n",
        "\n",
        "    for sample in final_pred:\n",
        "        final_predicts.append(torch.argmax(sample).item())"
      ],
      "execution_count": null,
      "outputs": [
        {
          "output_type": "display_data",
          "data": {
            "application/vnd.jupyter.widget-view+json": {
              "model_id": "c74c4e5ee68549fbb729bbc41822e5ce",
              "version_minor": 0,
              "version_major": 2
            },
            "text/plain": [
              "HBox(children=(FloatProgress(value=0.0, max=35.0), HTML(value='')))"
            ]
          },
          "metadata": {
            "tags": []
          }
        },
        {
          "output_type": "stream",
          "text": [
            "\n"
          ],
          "name": "stdout"
        }
      ]
    },
    {
      "cell_type": "code",
      "metadata": {
        "id": "UHx7pp7IwlV5"
      },
      "source": [
        "lib_path = os.path.abspath(os.path.join(global_repo_path, 'eval_scripts'))\n",
        "sys.path.append(lib_path)\n",
        "import evaluate_ners, brat_format"
      ],
      "execution_count": null,
      "outputs": []
    },
    {
      "cell_type": "code",
      "metadata": {
        "id": "_qsBvQeCwlV8"
      },
      "source": [
        "idx2re = {}\n",
        "for k, v in task12_test_ds.re2idx.items():\n",
        "    idx2re[v] = k"
      ],
      "execution_count": null,
      "outputs": []
    },
    {
      "cell_type": "code",
      "metadata": {
        "id": "Z5qkf-OVIFcI",
        "colab": {
          "base_uri": "https://localhost:8080/",
          "height": 67,
          "referenced_widgets": [
            "2e36a9d3fa304c34892d4c7a7ebb53bf",
            "d89ea190ceef4b3ca86311b35e283bdd",
            "d369c02651f848f7ad6fc1a700f6f000",
            "cff4209db2c84ba0b66109e184aa7272",
            "d823003e0fc04357baa27e5cb11df10f",
            "41ed26e36b4c442088b22f6d734cf478",
            "dd046a9cfbcb437b9ad8b6052e94d097",
            "ae069761d9504cc2b65424af52634831"
          ]
        },
        "outputId": "48ae5f34-df24-447f-f0de-d08bc6217d74"
      },
      "source": [
        "for sample_idx, sample in enumerate(tqdm(task12_test_ds.samples)):\n",
        "    brat_doc = brat_format.BratDoc(sample.raw_text)\n",
        "    token_idx2T = {}\n",
        "    n_rels = 0\n",
        "\n",
        "    for token_idx, token in enumerate(sample.tokens):\n",
        "        for T_name, (entity, start, stop) in sample.ner_spans.items():\n",
        "            if token.start == start:\n",
        "                brat_doc.add_ner(T_name[1:], entity, start, stop)\n",
        "                token_idx2T[token_idx] = T_name\n",
        "                break\n",
        "\n",
        "    for sent_id, sent in enumerate(task12_test_ds.re_sentences):\n",
        "        if (sent.doc_idx == sample_idx and \n",
        "            idx2re[final_predicts[sent_id]] != 'NONE'):\n",
        "            n_rels += 1\n",
        "            brat_doc.add_relation(\n",
        "                n_rels, \n",
        "                idx2re[final_predicts[sent_id]], \n",
        "                token_idx2T[sent.ent1_idx][1:], \n",
        "                token_idx2T[sent.ent2_idx][1:]\n",
        "            )\n",
        "\n",
        "    brat_doc.write_to_file(global_repo_path+f'test_data/pred_parts_re/{sample.file_name}.ann')"
      ],
      "execution_count": null,
      "outputs": [
        {
          "output_type": "display_data",
          "data": {
            "application/vnd.jupyter.widget-view+json": {
              "model_id": "2e36a9d3fa304c34892d4c7a7ebb53bf",
              "version_minor": 0,
              "version_major": 2
            },
            "text/plain": [
              "HBox(children=(FloatProgress(value=0.0, max=30.0), HTML(value='')))"
            ]
          },
          "metadata": {
            "tags": []
          }
        },
        {
          "output_type": "stream",
          "text": [
            "\n"
          ],
          "name": "stdout"
        }
      ]
    },
    {
      "cell_type": "code",
      "metadata": {
        "id": "CdSz5l8eyvQ5",
        "colab": {
          "base_uri": "https://localhost:8080/",
          "height": 35
        },
        "outputId": "fac6082b-22c0-4a9e-8458-a22ae4ef0357"
      },
      "source": [
        "evaluate_rels.calc_rels_f1(global_repo_path+f'test_data/pred_parts_re/',\n",
        "                           global_repo_path+f'test_data/test_parts/',)"
      ],
      "execution_count": null,
      "outputs": [
        {
          "output_type": "execute_result",
          "data": {
            "text/plain": [
              "0.3216783216783217"
            ]
          },
          "metadata": {
            "tags": []
          },
          "execution_count": 19
        }
      ]
    }
  ]
}